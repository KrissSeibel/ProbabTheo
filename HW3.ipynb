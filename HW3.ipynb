{
  "nbformat": 4,
  "nbformat_minor": 0,
  "metadata": {
    "colab": {
      "name": "HW3.ipynb",
      "provenance": [],
      "authorship_tag": "ABX9TyO7b9eYizzxFxMGVnbA+0Q2",
      "include_colab_link": true
    },
    "kernelspec": {
      "name": "python3",
      "display_name": "Python 3"
    },
    "language_info": {
      "name": "python"
    }
  },
  "cells": [
    {
      "cell_type": "markdown",
      "metadata": {
        "id": "view-in-github",
        "colab_type": "text"
      },
      "source": [
        "<a href=\"https://colab.research.google.com/github/KrissSeibel/ProbabTheo/blob/lesson-3/HW3.ipynb\" target=\"_parent\"><img src=\"https://colab.research.google.com/assets/colab-badge.svg\" alt=\"Open In Colab\"/></a>"
      ]
    },
    {
      "cell_type": "code",
      "metadata": {
        "id": "401tvAld52el"
      },
      "source": [
        "import numpy as np\n",
        "def cnk(n,k):\n",
        "  return np.math.factorial(n)/(np.math.factorial(k)*np.math.factorial(n-k))"
      ],
      "execution_count": null,
      "outputs": []
    },
    {
      "cell_type": "markdown",
      "metadata": {
        "id": "ZsHjra098de4"
      },
      "source": [
        "Задача №1."
      ]
    },
    {
      "cell_type": "markdown",
      "metadata": {
        "id": "h1feJqwxJEFS"
      },
      "source": [
        "Сначала вычислим среднее арифметическое:"
      ]
    },
    {
      "cell_type": "code",
      "metadata": {
        "colab": {
          "base_uri": "https://localhost:8080/"
        },
        "id": "JbMUT6wz8mTq",
        "outputId": "cc2971aa-9a5d-4db1-fae7-0e0ec1353795"
      },
      "source": [
        "z=np.array([100,80,75,77,89,33,45,25,65,17,30,24,57,55,70,75,65,84,90,150])\n",
        "z.sort()\n",
        "srar=sum(z)/len(z)\n",
        "srar"
      ],
      "execution_count": null,
      "outputs": [
        {
          "output_type": "execute_result",
          "data": {
            "text/plain": [
              "65.3"
            ]
          },
          "metadata": {},
          "execution_count": 3
        }
      ]
    },
    {
      "cell_type": "markdown",
      "metadata": {
        "id": "5yBIn779JCTE"
      },
      "source": [
        "Ответ: 65,3"
      ]
    },
    {
      "cell_type": "markdown",
      "metadata": {
        "id": "kANFtbjQUXD2"
      },
      "source": [
        "Смещенная оценка дисперсии:"
      ]
    },
    {
      "cell_type": "code",
      "metadata": {
        "colab": {
          "base_uri": "https://localhost:8080/"
        },
        "id": "lZrKkwP2RnJ_",
        "outputId": "c58f00d0-11ff-4f07-bf3c-b679d9a17733"
      },
      "source": [
        "e=0\n",
        "for i in z:\n",
        "  e=e+(i-srar)**2\n",
        "s2s=e/len(z)\n",
        "s2s"
      ],
      "execution_count": null,
      "outputs": [
        {
          "output_type": "execute_result",
          "data": {
            "text/plain": [
              "950.11"
            ]
          },
          "metadata": {},
          "execution_count": 4
        }
      ]
    },
    {
      "cell_type": "markdown",
      "metadata": {
        "id": "EXKwcl1hX97s"
      },
      "source": [
        "Ответ: 950,11"
      ]
    },
    {
      "cell_type": "markdown",
      "metadata": {
        "id": "Fra5answXFPk"
      },
      "source": [
        "Несмещенная оценка дисперсии:"
      ]
    },
    {
      "cell_type": "code",
      "metadata": {
        "colab": {
          "base_uri": "https://localhost:8080/"
        },
        "id": "EvO2ypvyXETJ",
        "outputId": "3c759ce4-46de-4219-c887-093a0a5518d8"
      },
      "source": [
        "s2n=e/(len(z)-1)\n",
        "s2n"
      ],
      "execution_count": null,
      "outputs": [
        {
          "output_type": "execute_result",
          "data": {
            "text/plain": [
              "1000.1157894736842"
            ]
          },
          "metadata": {},
          "execution_count": 5
        }
      ]
    },
    {
      "cell_type": "markdown",
      "metadata": {
        "id": "IvMD8eWFYBgI"
      },
      "source": [
        "Ответ: 1000,12"
      ]
    },
    {
      "cell_type": "markdown",
      "metadata": {
        "id": "-B94qxx5XeOH"
      },
      "source": [
        "Среднее квадратичное отклонение:"
      ]
    },
    {
      "cell_type": "code",
      "metadata": {
        "colab": {
          "base_uri": "https://localhost:8080/"
        },
        "id": "x_wOxBD7XnA5",
        "outputId": "74d842b6-ed10-48bd-8cef-6b6444f41095"
      },
      "source": [
        "s=np.sqrt(s2n)\n",
        "s"
      ],
      "execution_count": null,
      "outputs": [
        {
          "output_type": "execute_result",
          "data": {
            "text/plain": [
              "31.624607341019814"
            ]
          },
          "metadata": {},
          "execution_count": 6
        }
      ]
    },
    {
      "cell_type": "markdown",
      "metadata": {
        "id": "96NC0JDbYHLd"
      },
      "source": [
        "Ответ: 31,62"
      ]
    },
    {
      "cell_type": "markdown",
      "metadata": {
        "id": "ABO9azvYYLXk"
      },
      "source": [
        "Задача №2."
      ]
    },
    {
      "cell_type": "markdown",
      "metadata": {
        "id": "XwejJst4YNYt"
      },
      "source": [
        "Существует три варианта сочетаний: \n",
        "1) из первого ящика оба мяча белые, из второго - один белый, остальные черные;\n",
        "2) из первого ящика один черный, другой белый; из второго - два белых, два черных;\n",
        "3) из первого ящика оба мяча черные, из второго - три белых, один черный."
      ]
    },
    {
      "cell_type": "code",
      "metadata": {
        "colab": {
          "base_uri": "https://localhost:8080/"
        },
        "id": "xXdbP20qx8Ow",
        "outputId": "a10c5386-77fc-489b-f025-74b52401dd32"
      },
      "source": [
        "c=(cnk(5,2)*cnk(5,1)*cnk(7,3)+cnk(5,1)*cnk(3,1)*cnk(5,2)*cnk(7,2)+cnk(3,2)*cnk(5,3)*cnk(7,1))/(cnk(8,2)*cnk(12,4))\n",
        "c"
      ],
      "execution_count": null,
      "outputs": [
        {
          "output_type": "execute_result",
          "data": {
            "text/plain": [
              "0.3686868686868687"
            ]
          },
          "metadata": {},
          "execution_count": 38
        }
      ]
    },
    {
      "cell_type": "markdown",
      "metadata": {
        "id": "dKKu4Q0JyrZh"
      },
      "source": [
        "Ответ: 36,87%"
      ]
    },
    {
      "cell_type": "markdown",
      "metadata": {
        "id": "lMCArpynOs6w"
      },
      "source": [
        "Задача №3."
      ]
    },
    {
      "cell_type": "markdown",
      "metadata": {
        "id": "HaceIYbiOwzP"
      },
      "source": [
        "Решать будем через теорему Байеса. Для начала определим следующее: стрелок попал в цель - это событие А; находится один из трех стрелков, который совершает выстрел - это событие В. Событие А происходит после того, как произошло событие В, а вероятность события В требуется определить уже после того, как произошло событие А. Следовательно, условие задачи требует определить апостериорную вероятность (pba). Определим априорную вероятность события В. Поскольку итог выстрела в момент наступления события В нам неизвестен, вероятность выстрелить для каждого спортсмена:"
      ]
    },
    {
      "cell_type": "code",
      "metadata": {
        "id": "JmKiOm38XLMI"
      },
      "source": [
        "pb1=1/3\n",
        "pb2=1/3\n",
        "pb3=1/3"
      ],
      "execution_count": null,
      "outputs": []
    },
    {
      "cell_type": "markdown",
      "metadata": {
        "id": "knMk1X0uXdgv"
      },
      "source": [
        "По условию порлучается, что вероятность, что биатлонист попадет в цель, при том, что уже определено, кто именно будет стрелять, для каждого из трех спортсменов:"
      ]
    },
    {
      "cell_type": "code",
      "metadata": {
        "id": "UiOX8k3qX2Qm"
      },
      "source": [
        "pab1=0.9\n",
        "pab2=0.8\n",
        "pab3=0.6"
      ],
      "execution_count": null,
      "outputs": []
    },
    {
      "cell_type": "markdown",
      "metadata": {
        "id": "zhaDzT-8YKhi"
      },
      "source": [
        "Остается последний элемент - нам нужно определить вероятность того, что событие А в приципе произойдет, до того, как нам станет известен итог испытания. Для этого воспользуемся формулой полной вероятности."
      ]
    },
    {
      "cell_type": "code",
      "metadata": {
        "colab": {
          "base_uri": "https://localhost:8080/"
        },
        "id": "Q3IHmOfcY8sP",
        "outputId": "4d99e7f7-7c5b-4697-d606-73afd515e8df"
      },
      "source": [
        "pa=pb1*pab1+pb2*pab2+pb3*pab3\n",
        "pa"
      ],
      "execution_count": null,
      "outputs": [
        {
          "output_type": "execute_result",
          "data": {
            "text/plain": [
              "0.7666666666666666"
            ]
          },
          "metadata": {},
          "execution_count": 11
        }
      ]
    },
    {
      "cell_type": "markdown",
      "metadata": {
        "id": "vfbN4pRPZTla"
      },
      "source": [
        "Осталось использовать формулу Байеса для каждого из трех спортсменов.\n",
        "Таким образом, вероятность, что (а) стрелял первый спортсмен:"
      ]
    },
    {
      "cell_type": "code",
      "metadata": {
        "colab": {
          "base_uri": "https://localhost:8080/"
        },
        "id": "BbKTWBQ7ZmlL",
        "outputId": "a95b8850-5bd8-476b-ec90-4617a779c137"
      },
      "source": [
        "pba1=pb1*pab1/pa\n",
        "pba1"
      ],
      "execution_count": null,
      "outputs": [
        {
          "output_type": "execute_result",
          "data": {
            "text/plain": [
              "0.391304347826087"
            ]
          },
          "metadata": {},
          "execution_count": 12
        }
      ]
    },
    {
      "cell_type": "markdown",
      "metadata": {
        "id": "Y6zzkul2Z1zI"
      },
      "source": [
        "Вероятность, что (б) стрелял второй спортсмен:"
      ]
    },
    {
      "cell_type": "code",
      "metadata": {
        "colab": {
          "base_uri": "https://localhost:8080/"
        },
        "id": "wMdsvJSNZ5qx",
        "outputId": "b5122863-db54-4359-c6d7-ce7b413bbb6c"
      },
      "source": [
        "pba2=pb2*pab2/pa\n",
        "pba2"
      ],
      "execution_count": null,
      "outputs": [
        {
          "output_type": "execute_result",
          "data": {
            "text/plain": [
              "0.3478260869565218"
            ]
          },
          "metadata": {},
          "execution_count": 14
        }
      ]
    },
    {
      "cell_type": "markdown",
      "metadata": {
        "id": "toZErW9laD7x"
      },
      "source": [
        "Вероятность, что (в) стрелял третий спортсмен:"
      ]
    },
    {
      "cell_type": "code",
      "metadata": {
        "colab": {
          "base_uri": "https://localhost:8080/"
        },
        "id": "-dK0KfYmaQlI",
        "outputId": "44308ec0-51bb-4477-b6f4-9ddf4a07eb4d"
      },
      "source": [
        "pba3=pb3*pab3/pa\n",
        "pba3"
      ],
      "execution_count": null,
      "outputs": [
        {
          "output_type": "execute_result",
          "data": {
            "text/plain": [
              "0.2608695652173913"
            ]
          },
          "metadata": {},
          "execution_count": 15
        }
      ]
    },
    {
      "cell_type": "markdown",
      "metadata": {
        "id": "7_ZWSo9kadCt"
      },
      "source": [
        "Ответ: а) 39,13%; б) 34,78%; в) 26,09%."
      ]
    },
    {
      "cell_type": "markdown",
      "metadata": {
        "id": "28UZdW3yat1i"
      },
      "source": [
        "Задача №4."
      ]
    },
    {
      "cell_type": "markdown",
      "metadata": {
        "id": "Xis0ERoyaxUs"
      },
      "source": [
        "Решение так же через формулу Байеса. Сначала определимся с количеством студентов. Пусть х - это количество студентов, поступивших на факультет А. Тогда на факультет В поступило тоже х студентов, на факультет С поступило 2х студентов, а всего на трех факультетах вместе взятых учится 4х студентов. "
      ]
    },
    {
      "cell_type": "markdown",
      "metadata": {
        "id": "JOPONBsBd-k9"
      },
      "source": [
        "Студент сдал первую сессию - это событие Х. Студент поступил на один из трех факультетов - это событие Y. Для каждого из факультетов, вероятность, что данный студент учится именно на нем, до того, как стали известны результаты экзаменов:  "
      ]
    },
    {
      "cell_type": "code",
      "metadata": {
        "id": "Lm14OoZNeu2G"
      },
      "source": [
        "pa=1/4\n",
        "pb=1/4\n",
        "pc=2/4"
      ],
      "execution_count": null,
      "outputs": []
    },
    {
      "cell_type": "markdown",
      "metadata": {
        "id": "gjUSQm1Je9o7"
      },
      "source": [
        "Вероятность сдачи сессии для студента, исходя из предположения, что он учится на одном из трех факультетов:"
      ]
    },
    {
      "cell_type": "code",
      "metadata": {
        "id": "KlCun-Z0fOC6"
      },
      "source": [
        "pxa=0.8\n",
        "pxb=0.7\n",
        "pxc=0.9"
      ],
      "execution_count": null,
      "outputs": []
    },
    {
      "cell_type": "markdown",
      "metadata": {
        "id": "53-VPWG2fdoc"
      },
      "source": [
        "Осталось определить вероятность того, что событие Х вообще произойдет, до того, как нам станут известны результаты экзаменов:"
      ]
    },
    {
      "cell_type": "code",
      "metadata": {
        "colab": {
          "base_uri": "https://localhost:8080/"
        },
        "id": "vlkW3Dw6f7UF",
        "outputId": "88aa2780-2995-492d-b08b-ba8ee9895378"
      },
      "source": [
        "px=pa*pxa+pb*pxb+pc*pxc\n",
        "px"
      ],
      "execution_count": null,
      "outputs": [
        {
          "output_type": "execute_result",
          "data": {
            "text/plain": [
              "0.825"
            ]
          },
          "metadata": {},
          "execution_count": 19
        }
      ]
    },
    {
      "cell_type": "markdown",
      "metadata": {
        "id": "wce9jdwbgKwb"
      },
      "source": [
        "Теперь можно определить вероятности: а) студент учится на факультете А:"
      ]
    },
    {
      "cell_type": "code",
      "metadata": {
        "colab": {
          "base_uri": "https://localhost:8080/"
        },
        "id": "6ffsZPJcgVbd",
        "outputId": "f7d4dd52-017b-4dad-f34a-dca8a812232d"
      },
      "source": [
        "pax=pa*pxa/px\n",
        "pax"
      ],
      "execution_count": null,
      "outputs": [
        {
          "output_type": "execute_result",
          "data": {
            "text/plain": [
              "0.24242424242424246"
            ]
          },
          "metadata": {},
          "execution_count": 20
        }
      ]
    },
    {
      "cell_type": "markdown",
      "metadata": {
        "id": "o7UYMz_3giwm"
      },
      "source": [
        "б) студент учится на факультете В:"
      ]
    },
    {
      "cell_type": "code",
      "metadata": {
        "colab": {
          "base_uri": "https://localhost:8080/"
        },
        "id": "ek0ZcQ71gpRg",
        "outputId": "4d54c9a2-1538-4ed8-a468-5506e4e4f406"
      },
      "source": [
        "pbx=pb*pxb/px\n",
        "pbx"
      ],
      "execution_count": null,
      "outputs": [
        {
          "output_type": "execute_result",
          "data": {
            "text/plain": [
              "0.21212121212121213"
            ]
          },
          "metadata": {},
          "execution_count": 21
        }
      ]
    },
    {
      "cell_type": "markdown",
      "metadata": {
        "id": "iuJlCIRIgxWN"
      },
      "source": [
        "в) студент учится на факультете С:"
      ]
    },
    {
      "cell_type": "code",
      "metadata": {
        "colab": {
          "base_uri": "https://localhost:8080/"
        },
        "id": "R1-dBRAzg1jy",
        "outputId": "4f2d9683-e193-45f7-e974-5273f7250961"
      },
      "source": [
        "pcx=pc*pxc/px\n",
        "pcx"
      ],
      "execution_count": null,
      "outputs": [
        {
          "output_type": "execute_result",
          "data": {
            "text/plain": [
              "0.5454545454545455"
            ]
          },
          "metadata": {},
          "execution_count": 22
        }
      ]
    },
    {
      "cell_type": "markdown",
      "metadata": {
        "id": "C2Mi_HVYg7f5"
      },
      "source": [
        "Ответ: а) 24,24%; б) 21,21%; в) 54,54%."
      ]
    },
    {
      "cell_type": "markdown",
      "metadata": {
        "id": "asBWwn8el5xc"
      },
      "source": [
        "Задача №5."
      ]
    },
    {
      "cell_type": "markdown",
      "metadata": {
        "id": "FOZE6_shnVlH"
      },
      "source": [
        "Вероятности выхода из строя трех различных деталей:"
      ]
    },
    {
      "cell_type": "code",
      "metadata": {
        "id": "L2Ff_o54mMpZ"
      },
      "source": [
        "p1=0.1\n",
        "p2=0.2\n",
        "p3=0.25"
      ],
      "execution_count": null,
      "outputs": []
    },
    {
      "cell_type": "markdown",
      "metadata": {
        "id": "B754IA_fna9e"
      },
      "source": [
        "Значит, вероятности того, что детали не выйдут из строя, для каждой детали:"
      ]
    },
    {
      "cell_type": "code",
      "metadata": {
        "id": "Wnevd010njoI"
      },
      "source": [
        "q1=1-p1\n",
        "q2=1-p2\n",
        "q3=1-p3"
      ],
      "execution_count": null,
      "outputs": []
    },
    {
      "cell_type": "markdown",
      "metadata": {
        "id": "elcKXKwDl7yj"
      },
      "source": [
        "Выход из строя каждой детали - это отдельное независимое событие, имеющее собственную вероятность. Поэтому: "
      ]
    },
    {
      "cell_type": "markdown",
      "metadata": {
        "id": "mB2x1ZVTmtmk"
      },
      "source": [
        "а) чтобы все детали вышли из строя в первыйтже месяц, должно произойти одновременно три независимых события, значит в этом случае:"
      ]
    },
    {
      "cell_type": "code",
      "metadata": {
        "colab": {
          "base_uri": "https://localhost:8080/"
        },
        "id": "QprsXlLwm_xu",
        "outputId": "20c338a3-5fb1-4abf-d02e-3afea0849709"
      },
      "source": [
        "p=p1*p2*p3\n",
        "p"
      ],
      "execution_count": null,
      "outputs": [
        {
          "output_type": "execute_result",
          "data": {
            "text/plain": [
              "0.005000000000000001"
            ]
          },
          "metadata": {},
          "execution_count": 28
        }
      ]
    },
    {
      "cell_type": "markdown",
      "metadata": {
        "id": "Emgixa_pnJsZ"
      },
      "source": [
        "б) чтобы вышли ровно две детали, нужно, чтобы одновременно произошли три независимых события. Но есть три различных варианта развития событий: целой может остаться первая, вторая или третья деталь. Поэтому:"
      ]
    },
    {
      "cell_type": "code",
      "metadata": {
        "colab": {
          "base_uri": "https://localhost:8080/"
        },
        "id": "rG1aGRF7owmn",
        "outputId": "f1135ed2-adbd-458c-8908-0ec164a04d16"
      },
      "source": [
        "p=q1*p2*p3+p1*q2*p3+p1*p2*q3\n",
        "p"
      ],
      "execution_count": null,
      "outputs": [
        {
          "output_type": "execute_result",
          "data": {
            "text/plain": [
              "0.08"
            ]
          },
          "metadata": {},
          "execution_count": 29
        }
      ]
    },
    {
      "cell_type": "markdown",
      "metadata": {
        "id": "PqKRioMNpF9s"
      },
      "source": [
        "в) для вычисления вероятности того, что из строя выйдет хотя бы одна деталь, пойдем от обратного. Вычислим вероятность того, что вообще ни одна деталь не испортится, и вычтем ее из единицы:"
      ]
    },
    {
      "cell_type": "code",
      "metadata": {
        "colab": {
          "base_uri": "https://localhost:8080/"
        },
        "id": "TEDsYbtopjXX",
        "outputId": "fd22d868-3efa-45c6-e676-659f27f56f8a"
      },
      "source": [
        "p=1-q1*q2*q3\n",
        "p"
      ],
      "execution_count": null,
      "outputs": [
        {
          "output_type": "execute_result",
          "data": {
            "text/plain": [
              "0.45999999999999996"
            ]
          },
          "metadata": {},
          "execution_count": 30
        }
      ]
    },
    {
      "cell_type": "markdown",
      "metadata": {
        "id": "s9NBVGhmpu49"
      },
      "source": [
        "г) для вычисления вероятности того, что из строя выйдет от одной до двух деталей, чтобы не перебирать разные сочетания, также можем пойти от обратного: из единицы вычеть вероятность, что все детали выйдут из строя, и что о\n",
        "ни одна деталь не выйдет из строя:"
      ]
    },
    {
      "cell_type": "code",
      "metadata": {
        "colab": {
          "base_uri": "https://localhost:8080/"
        },
        "id": "E-4dn-7LqO7o",
        "outputId": "bc5ecd10-ff51-4f15-9179-e15946f6b170"
      },
      "source": [
        "p=1-p1*p2*p3-q1*q2*q3\n",
        "p"
      ],
      "execution_count": null,
      "outputs": [
        {
          "output_type": "execute_result",
          "data": {
            "text/plain": [
              "0.45499999999999996"
            ]
          },
          "metadata": {},
          "execution_count": 31
        }
      ]
    },
    {
      "cell_type": "markdown",
      "metadata": {
        "id": "dMERMeLMq0I-"
      },
      "source": [
        "Ответ: а) 0,5%; б) 8%; в) 45,99%; г) 45,49%."
      ]
    }
  ]
}