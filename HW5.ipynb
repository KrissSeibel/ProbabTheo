{
  "nbformat": 4,
  "nbformat_minor": 0,
  "metadata": {
    "colab": {
      "name": "HW5.ipynb",
      "provenance": [],
      "authorship_tag": "ABX9TyOE/DvlZZM3vv7N4PMRnAj0",
      "include_colab_link": true
    },
    "kernelspec": {
      "name": "python3",
      "display_name": "Python 3"
    },
    "language_info": {
      "name": "python"
    }
  },
  "cells": [
    {
      "cell_type": "markdown",
      "metadata": {
        "id": "view-in-github",
        "colab_type": "text"
      },
      "source": [
        "<a href=\"https://colab.research.google.com/github/KrissSeibel/ProbabTheo/blob/lesson-5/HW5.ipynb\" target=\"_parent\"><img src=\"https://colab.research.google.com/assets/colab-badge.svg\" alt=\"Open In Colab\"/></a>"
      ]
    },
    {
      "cell_type": "code",
      "metadata": {
        "id": "JK-W1gktKNFH"
      },
      "source": [
        "import math\n",
        "import numpy as np"
      ],
      "execution_count": 5,
      "outputs": []
    },
    {
      "cell_type": "markdown",
      "metadata": {
        "id": "Dp44GMa5IARt"
      },
      "source": [
        "Задача №1."
      ]
    },
    {
      "cell_type": "code",
      "metadata": {
        "id": "dOeIfUMEH9j1"
      },
      "source": [
        "s=16\n",
        "g=0.95\n",
        "x=80\n",
        "n=256"
      ],
      "execution_count": 6,
      "outputs": []
    },
    {
      "cell_type": "markdown",
      "metadata": {
        "id": "yZgylsRIKWNI"
      },
      "source": [
        "Найдем альфу пополам:"
      ]
    },
    {
      "cell_type": "code",
      "metadata": {
        "colab": {
          "base_uri": "https://localhost:8080/"
        },
        "id": "jkmEdfE0KeD6",
        "outputId": "faf04d5b-eef6-4b72-add0-b0ba935c0e09"
      },
      "source": [
        "a=(1-g)/2\n",
        "a"
      ],
      "execution_count": 7,
      "outputs": [
        {
          "output_type": "execute_result",
          "data": {
            "text/plain": [
              "0.025000000000000022"
            ]
          },
          "metadata": {},
          "execution_count": 7
        }
      ]
    },
    {
      "cell_type": "markdown",
      "metadata": {
        "id": "o2DCiMYFKzez"
      },
      "source": [
        "Нам известна сигма генеральной совокупности, поэтому будем использовать z-критерий. Согласно таблице, этому значению будет соответствовать z, равное 1,96. Теперь можем найти нижнюю и верхнюю границы доверительного интервала:"
      ]
    },
    {
      "cell_type": "code",
      "metadata": {
        "colab": {
          "base_uri": "https://localhost:8080/"
        },
        "id": "51ZBfLiqLUJR",
        "outputId": "48b7fa84-e237-4a77-8ad4-56fcea740fec"
      },
      "source": [
        "z=1.96\n",
        "t1=x+z*s/math.sqrt(n)\n",
        "t1"
      ],
      "execution_count": 8,
      "outputs": [
        {
          "output_type": "execute_result",
          "data": {
            "text/plain": [
              "81.96"
            ]
          },
          "metadata": {},
          "execution_count": 8
        }
      ]
    },
    {
      "cell_type": "code",
      "metadata": {
        "colab": {
          "base_uri": "https://localhost:8080/"
        },
        "id": "GS7hYo0mLoqg",
        "outputId": "379957b5-bca5-40bd-ac36-b35a8f78adef"
      },
      "source": [
        "t2=x-z*s/math.sqrt(n)\n",
        "t2"
      ],
      "execution_count": 9,
      "outputs": [
        {
          "output_type": "execute_result",
          "data": {
            "text/plain": [
              "78.04"
            ]
          },
          "metadata": {},
          "execution_count": 9
        }
      ]
    },
    {
      "cell_type": "markdown",
      "metadata": {
        "id": "cAYL9tKYLy9W"
      },
      "source": [
        "Ответ: [78,04; 81,96]."
      ]
    },
    {
      "cell_type": "markdown",
      "metadata": {
        "id": "SHETa7aUME5O"
      },
      "source": [
        "Задача №2."
      ]
    },
    {
      "cell_type": "code",
      "metadata": {
        "colab": {
          "base_uri": "https://localhost:8080/"
        },
        "id": "7xL1cAgFNRNt",
        "outputId": "f2fe20c1-0bf0-4f32-c4b8-be034fb595d2"
      },
      "source": [
        "data=[6.9, 6.1, 6.2, 6.8, 7.5, 6.3, 6.4, 6.9, 6.7, 6.1]\n",
        "n=10\n",
        "g=0.95\n",
        "x0=np.mean(data)\n",
        "x0"
      ],
      "execution_count": 10,
      "outputs": [
        {
          "output_type": "execute_result",
          "data": {
            "text/plain": [
              "6.590000000000001"
            ]
          },
          "metadata": {},
          "execution_count": 10
        }
      ]
    },
    {
      "cell_type": "markdown",
      "metadata": {
        "id": "px31bBdrPOM9"
      },
      "source": [
        "Необходимо найти несмещенную оценку дисперсии выборки:"
      ]
    },
    {
      "cell_type": "code",
      "metadata": {
        "colab": {
          "base_uri": "https://localhost:8080/"
        },
        "id": "l0492d1OPVbD",
        "outputId": "4db0af1b-b397-4f6c-9992-ac466ef775d2"
      },
      "source": [
        "e=0\n",
        "for x in data:\n",
        "  e=e+(x-x0)**2\n",
        "d=e/(n-1) \n",
        "d"
      ],
      "execution_count": 11,
      "outputs": [
        {
          "output_type": "execute_result",
          "data": {
            "text/plain": [
              "0.20322222222222233"
            ]
          },
          "metadata": {},
          "execution_count": 11
        }
      ]
    },
    {
      "cell_type": "markdown",
      "metadata": {
        "id": "PDav_MYgRjpi"
      },
      "source": [
        "Отсюда находим дисперсию выборки:"
      ]
    },
    {
      "cell_type": "code",
      "metadata": {
        "colab": {
          "base_uri": "https://localhost:8080/"
        },
        "id": "0LfkeYJ0RnIq",
        "outputId": "9e2e9d3f-02c7-43a3-9d7b-ad4e4d0cfa12"
      },
      "source": [
        "s=math.sqrt(d)\n",
        "s"
      ],
      "execution_count": 12,
      "outputs": [
        {
          "output_type": "execute_result",
          "data": {
            "text/plain": [
              "0.4508017549014448"
            ]
          },
          "metadata": {},
          "execution_count": 12
        }
      ]
    },
    {
      "cell_type": "markdown",
      "metadata": {
        "id": "nz-fB3oNR5Mj"
      },
      "source": [
        "Находим альфу пополам:"
      ]
    },
    {
      "cell_type": "code",
      "metadata": {
        "colab": {
          "base_uri": "https://localhost:8080/"
        },
        "id": "5ofuqtoAR8cq",
        "outputId": "16b35a7f-ea0f-47d9-c472-8c4d0c5650e0"
      },
      "source": [
        "a=(1-g)/2\n",
        "a"
      ],
      "execution_count": 13,
      "outputs": [
        {
          "output_type": "execute_result",
          "data": {
            "text/plain": [
              "0.025000000000000022"
            ]
          },
          "metadata": {},
          "execution_count": 13
        }
      ]
    },
    {
      "cell_type": "markdown",
      "metadata": {
        "id": "OLsZEol_SA72"
      },
      "source": [
        "Польскольку мы не знаем сигму генеральному совокупности, а только выборки, будем использовать критерий стюдента. По таблице находим, что при выборке 10 значению 0,025 соответствует t 2,262. Теперь можем выячислить границы доверительного интервала:"
      ]
    },
    {
      "cell_type": "code",
      "metadata": {
        "colab": {
          "base_uri": "https://localhost:8080/"
        },
        "id": "b-cxwqdLT4IF",
        "outputId": "33005d71-40fb-4393-dee0-75654fbbdb77"
      },
      "source": [
        "t=2.262\n",
        "t1=x0+t*s/math.sqrt(n)\n",
        "t1"
      ],
      "execution_count": 14,
      "outputs": [
        {
          "output_type": "execute_result",
          "data": {
            "text/plain": [
              "6.912461744087575"
            ]
          },
          "metadata": {},
          "execution_count": 14
        }
      ]
    },
    {
      "cell_type": "code",
      "metadata": {
        "colab": {
          "base_uri": "https://localhost:8080/"
        },
        "id": "43LCmVAwUiys",
        "outputId": "61dffefc-56d5-45eb-9acf-ab3da6e918c8"
      },
      "source": [
        "t2=x0-t*s/math.sqrt(n)\n",
        "t2"
      ],
      "execution_count": 15,
      "outputs": [
        {
          "output_type": "execute_result",
          "data": {
            "text/plain": [
              "6.267538255912426"
            ]
          },
          "metadata": {},
          "execution_count": 15
        }
      ]
    },
    {
      "cell_type": "markdown",
      "metadata": {
        "id": "uTNPmBC3UsQ8"
      },
      "source": [
        "Ответ: [6,27; 6,91]."
      ]
    },
    {
      "cell_type": "markdown",
      "metadata": {
        "id": "f4p5X2m-XC5a"
      },
      "source": [
        "Задача №3."
      ]
    },
    {
      "cell_type": "markdown",
      "metadata": {
        "id": "ZzOQJaVPdjCg"
      },
      "source": [
        "Определим, что гипотеза, которую необходимо проверить по условию задачи, - это гипотеза Н0. Поскольку по условию задачи по выборке среднее значение больше, чем указано в гипотезе Н0, альтернативная гипотеза Н1 будет заключаться в том, что мю больше мю нулевого."
      ]
    },
    {
      "cell_type": "code",
      "metadata": {
        "id": "WjGxLGrqYYXG"
      },
      "source": [
        "m0=17\n",
        "a=0.05\n",
        "n=100\n",
        "m=17.5\n",
        "d=4"
      ],
      "execution_count": 16,
      "outputs": []
    },
    {
      "cell_type": "markdown",
      "metadata": {
        "id": "uA6cQyTWZq3w"
      },
      "source": [
        "Определяем z табличное, соответствующее альфа 5%. Зная дисперсию генеральной совокупности, ищем сигму."
      ]
    },
    {
      "cell_type": "code",
      "metadata": {
        "colab": {
          "base_uri": "https://localhost:8080/"
        },
        "id": "AU99c2UYaByK",
        "outputId": "42d7b985-3d79-4b77-a793-a36577b44fa8"
      },
      "source": [
        "zt=1.65\n",
        "s=math.sqrt(d)\n",
        "s"
      ],
      "execution_count": 17,
      "outputs": [
        {
          "output_type": "execute_result",
          "data": {
            "text/plain": [
              "2.0"
            ]
          },
          "metadata": {},
          "execution_count": 17
        }
      ]
    },
    {
      "cell_type": "markdown",
      "metadata": {
        "id": "YFG-dwnqair0"
      },
      "source": [
        "Теперь можем вычислить z расчетное:"
      ]
    },
    {
      "cell_type": "code",
      "metadata": {
        "colab": {
          "base_uri": "https://localhost:8080/"
        },
        "id": "s52rnAPqamtE",
        "outputId": "058c5b43-59af-4198-d4bb-dc10b0fbaa7e"
      },
      "source": [
        "z=(m-m0)/(s/math.sqrt(n))\n",
        "z"
      ],
      "execution_count": 18,
      "outputs": [
        {
          "output_type": "execute_result",
          "data": {
            "text/plain": [
              "2.5"
            ]
          },
          "metadata": {},
          "execution_count": 18
        }
      ]
    },
    {
      "cell_type": "markdown",
      "metadata": {
        "id": "LQkO3esJc2_9"
      },
      "source": [
        "Мы видим, что z(2,5) > zt(1,65), а значит z расчетная лежит в критической области. Следовательно, мы должны отвергнуть гипотезу Н0 как неверную и принять гипотезу Н1."
      ]
    },
    {
      "cell_type": "markdown",
      "metadata": {
        "id": "dX8g3SFXeYk3"
      },
      "source": [
        "Ответ: гипотеза Н0 неверна."
      ]
    },
    {
      "cell_type": "markdown",
      "metadata": {
        "id": "XEUzRroYebPo"
      },
      "source": [
        "Задача №4."
      ]
    },
    {
      "cell_type": "markdown",
      "metadata": {
        "id": "jWdWQqJ4l-DD"
      },
      "source": [
        "Утверждение продавца примем за гипотезу Н1. Альтернативную гипотезу Н1 сформулируем как мю неравно мю нулевому."
      ]
    },
    {
      "cell_type": "code",
      "metadata": {
        "id": "CA2qrZrvoz-O"
      },
      "source": [
        "data=[202, 203, 199, 197, 195, 201, 200, 204, 194, 190]\n",
        "m0=200\n",
        "n=10\n",
        "g=0.99"
      ],
      "execution_count": 31,
      "outputs": []
    },
    {
      "cell_type": "markdown",
      "metadata": {
        "id": "Q9VlZrhgpSG1"
      },
      "source": [
        "Сигма генеральной совокупности нам неизвестна, поэтому будем использовать t-критерий, к тому же - двухсторонний. Для начала найдем альфа пополам, и значение t, соответствующее этой альфа пополам:"
      ]
    },
    {
      "cell_type": "code",
      "metadata": {
        "colab": {
          "base_uri": "https://localhost:8080/"
        },
        "id": "P3yMM9tHp6V4",
        "outputId": "a8cd19ac-f76e-4ad8-ace8-838826504be8"
      },
      "source": [
        "a=(1-g)/2\n",
        "a"
      ],
      "execution_count": 32,
      "outputs": [
        {
          "output_type": "execute_result",
          "data": {
            "text/plain": [
              "0.0050000000000000044"
            ]
          },
          "metadata": {},
          "execution_count": 32
        }
      ]
    },
    {
      "cell_type": "markdown",
      "metadata": {
        "id": "aN1w1FReqMI0"
      },
      "source": [
        "Смотрим, какое значение t табличное нам подходит при выборке 10."
      ]
    },
    {
      "cell_type": "code",
      "metadata": {
        "id": "9OBsrD6VqTmo"
      },
      "source": [
        "tt=3.25"
      ],
      "execution_count": 33,
      "outputs": []
    },
    {
      "cell_type": "markdown",
      "metadata": {
        "id": "PjMwCQXDqjAS"
      },
      "source": [
        "Теперь найдем среднее арифметическое выборке, а также сигму этой выборки:"
      ]
    },
    {
      "cell_type": "code",
      "metadata": {
        "colab": {
          "base_uri": "https://localhost:8080/"
        },
        "id": "nEEoH8q9qpu7",
        "outputId": "6707b98d-fa7c-4c7d-9e53-336329eb67a0"
      },
      "source": [
        "m=np.mean(data)\n",
        "m"
      ],
      "execution_count": 34,
      "outputs": [
        {
          "output_type": "execute_result",
          "data": {
            "text/plain": [
              "198.5"
            ]
          },
          "metadata": {},
          "execution_count": 34
        }
      ]
    },
    {
      "cell_type": "code",
      "metadata": {
        "colab": {
          "base_uri": "https://localhost:8080/"
        },
        "id": "pmvv-w-aq9Mg",
        "outputId": "a7c94c01-ae50-4e04-da1e-e26c06d4663a"
      },
      "source": [
        "e=0\n",
        "for x in data:\n",
        "  e=e+(x-m)**2\n",
        "d=e/(n-1)\n",
        "s=math.sqrt(d)\n",
        "s"
      ],
      "execution_count": 35,
      "outputs": [
        {
          "output_type": "execute_result",
          "data": {
            "text/plain": [
              "4.453463071962462"
            ]
          },
          "metadata": {},
          "execution_count": 35
        }
      ]
    },
    {
      "cell_type": "markdown",
      "metadata": {
        "id": "ZJZK6ygesyJC"
      },
      "source": [
        "Теперь можем найти t расчетное:"
      ]
    },
    {
      "cell_type": "code",
      "metadata": {
        "colab": {
          "base_uri": "https://localhost:8080/"
        },
        "id": "IjhUptqxs1hI",
        "outputId": "dde13965-5f18-4a6a-8d26-f3ad5e987e25"
      },
      "source": [
        "t=(m-m0)/(s/math.sqrt(n))\n",
        "t"
      ],
      "execution_count": 39,
      "outputs": [
        {
          "output_type": "execute_result",
          "data": {
            "text/plain": [
              "-1.0651074037450896"
            ]
          },
          "metadata": {},
          "execution_count": 39
        }
      ]
    },
    {
      "cell_type": "markdown",
      "metadata": {
        "id": "bEsHBv-n00fg"
      },
      "source": [
        "tt(-3,25)<t(-1,06)<tt(3,25), значит t расчетное лежит в области принятия гипотезы Н0, значит мы ее принимаем."
      ]
    },
    {
      "cell_type": "markdown",
      "metadata": {
        "id": "S2TdZL4L1Wed"
      },
      "source": [
        "Ответ: гипотеза Н0 верна."
      ]
    }
  ]
}