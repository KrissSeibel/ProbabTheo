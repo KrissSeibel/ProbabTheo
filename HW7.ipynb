{
  "nbformat": 4,
  "nbformat_minor": 0,
  "metadata": {
    "colab": {
      "name": "HW7.ipynb",
      "provenance": [],
      "authorship_tag": "ABX9TyOzDZwejU29YTN5yTtWVy+P",
      "include_colab_link": true
    },
    "kernelspec": {
      "name": "python3",
      "display_name": "Python 3"
    },
    "language_info": {
      "name": "python"
    }
  },
  "cells": [
    {
      "cell_type": "markdown",
      "metadata": {
        "id": "view-in-github",
        "colab_type": "text"
      },
      "source": [
        "<a href=\"https://colab.research.google.com/github/KrissSeibel/ProbabTheo/blob/lesson-7/HW7.ipynb\" target=\"_parent\"><img src=\"https://colab.research.google.com/assets/colab-badge.svg\" alt=\"Open In Colab\"/></a>"
      ]
    },
    {
      "cell_type": "code",
      "metadata": {
        "id": "WSa_-agEYD1p"
      },
      "source": [
        "import numpy as np"
      ],
      "execution_count": 34,
      "outputs": []
    },
    {
      "cell_type": "markdown",
      "metadata": {
        "id": "AbGP9BYJX8p9"
      },
      "source": [
        "Задача №1."
      ]
    },
    {
      "cell_type": "markdown",
      "metadata": {
        "id": "czi0IUESDAg3"
      },
      "source": [
        "Рассчитаем коэффициенты линейной регрессии с интерсептом по формулам:"
      ]
    },
    {
      "cell_type": "code",
      "metadata": {
        "id": "f2OpbxosXwns"
      },
      "source": [
        "zp=np.array([35, 45, 190, 200, 40, 70, 54, 150, 120, 110])\n",
        "ks=np.array([401, 574, 874, 919, 459, 739, 653, 902, 746, 832])"
      ],
      "execution_count": 35,
      "outputs": []
    },
    {
      "cell_type": "code",
      "metadata": {
        "colab": {
          "base_uri": "https://localhost:8080/"
        },
        "id": "v4_KiCkwai-c",
        "outputId": "c4ae792f-69b6-446a-8a55-bc83958e959e"
      },
      "source": [
        "b1=(np.mean(zp*ks)-np.mean(zp)*np.mean(ks))/(np.mean(zp**2)-(np.mean(zp))**2)\n",
        "b1"
      ],
      "execution_count": 36,
      "outputs": [
        {
          "output_type": "execute_result",
          "data": {
            "text/plain": [
              "2.620538882402765"
            ]
          },
          "metadata": {},
          "execution_count": 36
        }
      ]
    },
    {
      "cell_type": "code",
      "metadata": {
        "colab": {
          "base_uri": "https://localhost:8080/"
        },
        "id": "YMNigjhabHc8",
        "outputId": "933aec5a-6d59-435d-f448-4b647c16e64b"
      },
      "source": [
        "b0=np.mean(ks)-b1*np.mean(zp)\n",
        "b0"
      ],
      "execution_count": 37,
      "outputs": [
        {
          "output_type": "execute_result",
          "data": {
            "text/plain": [
              "444.1773573243596"
            ]
          },
          "metadata": {},
          "execution_count": 37
        }
      ]
    },
    {
      "cell_type": "markdown",
      "metadata": {
        "id": "5Z7ae7yuDPTk"
      },
      "source": [
        "Теперь то же самое, но матричным методом:"
      ]
    },
    {
      "cell_type": "code",
      "metadata": {
        "id": "-FvOsVeYba00",
        "colab": {
          "base_uri": "https://localhost:8080/"
        },
        "outputId": "a3733298-3cb8-41ff-bc87-a09e24d36b8c"
      },
      "source": [
        "zp=zp.reshape((10, 1))\n",
        "ks=ks.reshape((10, 1))\n",
        "zp=np.hstack([np.ones((10, 1)), zp])\n",
        "b=np.dot(np.linalg.inv(np.dot(zp.T, zp)), zp.T@ks)\n",
        "b"
      ],
      "execution_count": 38,
      "outputs": [
        {
          "output_type": "execute_result",
          "data": {
            "text/plain": [
              "array([[444.17735732],\n",
              "       [  2.62053888]])"
            ]
          },
          "metadata": {},
          "execution_count": 38
        }
      ]
    },
    {
      "cell_type": "markdown",
      "metadata": {
        "id": "GOo2rNLLDnrX"
      },
      "source": [
        "То же самое, но без интерсепта:"
      ]
    },
    {
      "cell_type": "code",
      "metadata": {
        "id": "NMXy_tYafAsw"
      },
      "source": [
        "zp=np.array([35, 45, 190, 200, 40, 70, 54, 150, 120, 110])\n",
        "ks=np.array([401, 574, 874, 919, 459, 739, 653, 902, 746, 832])"
      ],
      "execution_count": 39,
      "outputs": []
    },
    {
      "cell_type": "code",
      "metadata": {
        "colab": {
          "base_uri": "https://localhost:8080/"
        },
        "id": "Slt-X0tdgG3P",
        "outputId": "dc601b9f-7952-4645-ba84-89a89d88c36a"
      },
      "source": [
        "zp=zp.reshape((10, 1))\n",
        "ks=ks.reshape((10, 1))\n",
        "b=np.dot(np.linalg.inv(np.dot(zp.T, zp)), zp.T@ks)\n",
        "b"
      ],
      "execution_count": 40,
      "outputs": [
        {
          "output_type": "execute_result",
          "data": {
            "text/plain": [
              "array([[5.88982042]])"
            ]
          },
          "metadata": {},
          "execution_count": 40
        }
      ]
    },
    {
      "cell_type": "markdown",
      "metadata": {
        "id": "CmJbxf9ykjBN"
      },
      "source": [
        "Задача №2."
      ]
    },
    {
      "cell_type": "code",
      "metadata": {
        "id": "gNYGbgS0kmmR"
      },
      "source": [
        "zp=np.array([35, 45, 190, 200, 40, 70, 54, 150, 120, 110])\n",
        "ks=np.array([401, 574, 874, 919, 459, 739, 653, 902, 746, 832])"
      ],
      "execution_count": 79,
      "outputs": []
    },
    {
      "cell_type": "code",
      "metadata": {
        "id": "bYzkpEh3kxka"
      },
      "source": [
        "def mse_(b1, zp=zp, ks=ks, n=10):\n",
        "  return np.sum((b1*zp-ks)**2)/n"
      ],
      "execution_count": 80,
      "outputs": []
    },
    {
      "cell_type": "code",
      "metadata": {
        "id": "X32-rsgIlfa2"
      },
      "source": [
        "alpha=1e-6\n",
        "b1=0.1\n",
        "n=8"
      ],
      "execution_count": 81,
      "outputs": []
    },
    {
      "cell_type": "code",
      "metadata": {
        "colab": {
          "base_uri": "https://localhost:8080/"
        },
        "id": "IqyygKXTrNC9",
        "outputId": "f9e0b010-f84e-4896-9d35-2ed2608b7e80"
      },
      "source": [
        "for i in range(800):\n",
        "  b1 -=alpha*(2/n)*np.sum((b1*zp-ks)*zp)\n",
        "  if i%100==0:\n",
        "    print(\"b1={b1}, mse={mse}\".format(b1=b1, mse=mse_(b1)))"
      ],
      "execution_count": 83,
      "outputs": [
        {
          "output_type": "stream",
          "name": "stdout",
          "text": [
            "b1=5.889820420128973, mse=56516.85841571941\n",
            "b1=5.889820420132577, mse=56516.8584157194\n",
            "b1=5.8898204201326765, mse=56516.85841571941\n",
            "b1=5.8898204201326765, mse=56516.85841571941\n",
            "b1=5.8898204201326765, mse=56516.85841571941\n",
            "b1=5.8898204201326765, mse=56516.85841571941\n",
            "b1=5.8898204201326765, mse=56516.85841571941\n",
            "b1=5.8898204201326765, mse=56516.85841571941\n"
          ]
        }
      ]
    },
    {
      "cell_type": "code",
      "metadata": {
        "colab": {
          "base_uri": "https://localhost:8080/"
        },
        "id": "VlF7Jx_wEUZG",
        "outputId": "9799c8c3-bd35-4dc9-b15d-f239ae954afa"
      },
      "source": [
        "mse_(5.88982042)"
      ],
      "execution_count": 84,
      "outputs": [
        {
          "output_type": "execute_result",
          "data": {
            "text/plain": [
              "56516.85841571943"
            ]
          },
          "metadata": {},
          "execution_count": 84
        }
      ]
    },
    {
      "cell_type": "markdown",
      "metadata": {
        "id": "GrJvT9GM_q1z"
      },
      "source": [
        "Задание №3."
      ]
    },
    {
      "cell_type": "markdown",
      "metadata": {
        "id": "hhCpWLQ0_uJL"
      },
      "source": [
        "Согласно центральной предельной теореме среднее выборочное следует нормальному распределению для генеральной совокупности с любым распределением. В таком случае, не зная сигму генеральной совокупности, мы будем использовать t-критерий Стьюдента,и использовать его таблицу. Однако в некоторых случаях на выборку может оказывать влияние большое количество случайных факторов, кроме того, само количество этих факторов может быть случайным, например в исследовании различных социальных явлений, финансах, логистике, энергетике. В таком случае используют распределение Лапласа - его хвосты больше, в нем иначе распределены вероятности, и именно в таком случае пользуются таблицей значений функции Лапласа."
      ]
    }
  ]
}