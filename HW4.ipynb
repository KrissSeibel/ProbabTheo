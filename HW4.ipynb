{
  "nbformat": 4,
  "nbformat_minor": 0,
  "metadata": {
    "colab": {
      "name": "HW4.ipynb",
      "provenance": [],
      "authorship_tag": "ABX9TyPXSF2C4n4clT60GdaOAgsx",
      "include_colab_link": true
    },
    "kernelspec": {
      "name": "python3",
      "display_name": "Python 3"
    },
    "language_info": {
      "name": "python"
    }
  },
  "cells": [
    {
      "cell_type": "markdown",
      "metadata": {
        "id": "view-in-github",
        "colab_type": "text"
      },
      "source": [
        "<a href=\"https://colab.research.google.com/github/KrissSeibel/ProbabTheo/blob/lesson-4/HW4.ipynb\" target=\"_parent\"><img src=\"https://colab.research.google.com/assets/colab-badge.svg\" alt=\"Open In Colab\"/></a>"
      ]
    },
    {
      "cell_type": "code",
      "metadata": {
        "id": "rkt_2sDfn9iY"
      },
      "source": [
        "import math"
      ],
      "execution_count": 6,
      "outputs": []
    },
    {
      "cell_type": "markdown",
      "metadata": {
        "id": "1idDgqoBkIGX"
      },
      "source": [
        "Задача №1."
      ]
    },
    {
      "cell_type": "code",
      "metadata": {
        "id": "fEfllibtkCDG"
      },
      "source": [
        "a=200\n",
        "b=800"
      ],
      "execution_count": 1,
      "outputs": []
    },
    {
      "cell_type": "code",
      "metadata": {
        "colab": {
          "base_uri": "https://localhost:8080/"
        },
        "id": "kXWNT7jDkekL",
        "outputId": "d3bec77e-835a-4ecf-b36d-09e6a1f279ef"
      },
      "source": [
        "m=(a+b)/2\n",
        "m"
      ],
      "execution_count": 2,
      "outputs": [
        {
          "output_type": "execute_result",
          "data": {
            "text/plain": [
              "500.0"
            ]
          },
          "metadata": {},
          "execution_count": 2
        }
      ]
    },
    {
      "cell_type": "code",
      "metadata": {
        "colab": {
          "base_uri": "https://localhost:8080/"
        },
        "id": "xroQFGQ0klPB",
        "outputId": "8689f390-8489-44d1-8550-f53e2343178e"
      },
      "source": [
        "d=((b-a)**2)/12\n",
        "d"
      ],
      "execution_count": 4,
      "outputs": [
        {
          "output_type": "execute_result",
          "data": {
            "text/plain": [
              "30000.0"
            ]
          },
          "metadata": {},
          "execution_count": 4
        }
      ]
    },
    {
      "cell_type": "markdown",
      "metadata": {
        "id": "ATEFAggilU8c"
      },
      "source": [
        "Ответ: M(X)=500; D(X)=30000."
      ]
    },
    {
      "cell_type": "markdown",
      "metadata": {
        "id": "nT94W2HrlVHy"
      },
      "source": [
        "Задача №2."
      ]
    },
    {
      "cell_type": "markdown",
      "metadata": {
        "id": "YD6cpRJKniwz"
      },
      "source": [
        "По условию задачи нам даны дисперсия и левая граница величины:"
      ]
    },
    {
      "cell_type": "code",
      "metadata": {
        "id": "Q9QxlzcQnX7w"
      },
      "source": [
        "d=0.2\n",
        "a=0.5"
      ],
      "execution_count": 5,
      "outputs": []
    },
    {
      "cell_type": "markdown",
      "metadata": {
        "id": "wnOWxTjMnsFe"
      },
      "source": [
        "Из формулы нахождения дисперсии для равномерно распределенной величины можем выразить ее правую границу:"
      ]
    },
    {
      "cell_type": "code",
      "metadata": {
        "colab": {
          "base_uri": "https://localhost:8080/"
        },
        "id": "svYzdq_Yn6cz",
        "outputId": "a84afce9-cb3b-4807-edc8-f2f3d0c7062c"
      },
      "source": [
        "b=math.sqrt(12*d)+a\n",
        "b"
      ],
      "execution_count": 7,
      "outputs": [
        {
          "output_type": "execute_result",
          "data": {
            "text/plain": [
              "2.049193338482967"
            ]
          },
          "metadata": {},
          "execution_count": 7
        }
      ]
    },
    {
      "cell_type": "markdown",
      "metadata": {
        "id": "RIALTE-doQaJ"
      },
      "source": [
        "Зная правую границу величины, можем вычислить также ее среднее значение:"
      ]
    },
    {
      "cell_type": "code",
      "metadata": {
        "colab": {
          "base_uri": "https://localhost:8080/"
        },
        "id": "SXfxfJE7oWCf",
        "outputId": "f3c029a9-2a26-4d89-881e-b5033c483a0b"
      },
      "source": [
        "m=(a+b)/2\n",
        "m"
      ],
      "execution_count": 8,
      "outputs": [
        {
          "output_type": "execute_result",
          "data": {
            "text/plain": [
              "1.2745966692414834"
            ]
          },
          "metadata": {},
          "execution_count": 8
        }
      ]
    },
    {
      "cell_type": "markdown",
      "metadata": {
        "id": "YCTCRy7FoaKk"
      },
      "source": [
        "Ответ: 2,05; 1,27."
      ]
    },
    {
      "cell_type": "markdown",
      "metadata": {
        "id": "42mFO9jLo9PH"
      },
      "source": [
        "Задача №3."
      ]
    },
    {
      "cell_type": "markdown",
      "metadata": {
        "id": "_nQT11lao_yq"
      },
      "source": [
        "Сравнив запись функции с общей формулой мы видим\n",
        ", что:\n"
      ]
    },
    {
      "cell_type": "markdown",
      "metadata": {
        "id": "GblmwFpBpQGo"
      },
      "source": [
        "а) M(X)=-2"
      ]
    },
    {
      "cell_type": "markdown",
      "metadata": {
        "id": "1DpNxGFRpXC9"
      },
      "source": [
        "б) D(X)=16"
      ]
    },
    {
      "cell_type": "markdown",
      "metadata": {
        "id": "ZJpeBeXkpc_o"
      },
      "source": [
        "в) std(X)=4"
      ]
    },
    {
      "cell_type": "markdown",
      "metadata": {
        "id": "E16sA2tIpjG3"
      },
      "source": [
        "Задача №4."
      ]
    },
    {
      "cell_type": "code",
      "metadata": {
        "id": "t9fb2Vyvrfu9"
      },
      "source": [
        "m=174\n",
        "s=8"
      ],
      "execution_count": 10,
      "outputs": []
    },
    {
      "cell_type": "markdown",
      "metadata": {
        "id": "ZJq_lMRfrWd6"
      },
      "source": [
        "а) сначала вычислим z, которая соответствует значению 182 см:"
      ]
    },
    {
      "cell_type": "code",
      "metadata": {
        "colab": {
          "base_uri": "https://localhost:8080/"
        },
        "id": "1ujPHECOr1tc",
        "outputId": "d6495e06-5663-4f5d-9110-9658f75d7877"
      },
      "source": [
        "x=182\n",
        "z=(x-m)/s\n",
        "z"
      ],
      "execution_count": 11,
      "outputs": [
        {
          "output_type": "execute_result",
          "data": {
            "text/plain": [
              "1.0"
            ]
          },
          "metadata": {},
          "execution_count": 11
        }
      ]
    },
    {
      "cell_type": "markdown",
      "metadata": {
        "id": "yDXgOTd4sKb9"
      },
      "source": [
        "Так как значение соответсвует ровно 1 сигма, вероятность найдем с помощью правила трех сигм:"
      ]
    },
    {
      "cell_type": "code",
      "metadata": {
        "colab": {
          "base_uri": "https://localhost:8080/"
        },
        "id": "etO9k7Z6sZJ9",
        "outputId": "ea8a5b42-58d7-447e-b1e5-90b4d5c4305a"
      },
      "source": [
        "p=(100-68.26)/2\n",
        "p"
      ],
      "execution_count": 12,
      "outputs": [
        {
          "output_type": "execute_result",
          "data": {
            "text/plain": [
              "15.869999999999997"
            ]
          },
          "metadata": {},
          "execution_count": 12
        }
      ]
    },
    {
      "cell_type": "markdown",
      "metadata": {
        "id": "1EYl5Upns99k"
      },
      "source": [
        "Ответ: 15,87%"
      ]
    },
    {
      "cell_type": "markdown",
      "metadata": {
        "id": "GiqWOc2BtCM-"
      },
      "source": [
        "б) Действуем аналогично:"
      ]
    },
    {
      "cell_type": "code",
      "metadata": {
        "colab": {
          "base_uri": "https://localhost:8080/"
        },
        "id": "otOEIwxstOud",
        "outputId": "4f39b11a-486b-4598-c836-5f7f6b65088b"
      },
      "source": [
        "x=190\n",
        "z=(x-m)/s\n",
        "z"
      ],
      "execution_count": 13,
      "outputs": [
        {
          "output_type": "execute_result",
          "data": {
            "text/plain": [
              "2.0"
            ]
          },
          "metadata": {},
          "execution_count": 13
        }
      ]
    },
    {
      "cell_type": "markdown",
      "metadata": {
        "id": "l6AKrsSPtYVT"
      },
      "source": [
        "Значение соответствует 2 сигма, поэтому:"
      ]
    },
    {
      "cell_type": "code",
      "metadata": {
        "colab": {
          "base_uri": "https://localhost:8080/"
        },
        "id": "gvbNItY0tdkf",
        "outputId": "ebc189f4-db11-4d5a-a7b8-059e6a01f7e5"
      },
      "source": [
        "p=(100-95.44)/2\n",
        "p"
      ],
      "execution_count": 16,
      "outputs": [
        {
          "output_type": "execute_result",
          "data": {
            "text/plain": [
              "2.280000000000001"
            ]
          },
          "metadata": {},
          "execution_count": 16
        }
      ]
    },
    {
      "cell_type": "markdown",
      "metadata": {
        "id": "3Rb8eJ5Ttnaq"
      },
      "source": [
        "Ответ: 2,28%"
      ]
    },
    {
      "cell_type": "markdown",
      "metadata": {
        "id": "dhcjxWdrtq6h"
      },
      "source": [
        "в) Под прошлой буквой выяснили, что 190 см соответствует 2 сигма. Вычисляем, какому z соответствует значение 166 см:"
      ]
    },
    {
      "cell_type": "code",
      "metadata": {
        "colab": {
          "base_uri": "https://localhost:8080/"
        },
        "id": "N9YfKM0Yt7wW",
        "outputId": "3754ac4b-5747-4242-87d6-f01bb9989b1f"
      },
      "source": [
        "x=166\n",
        "z=(x-m)/s\n",
        "z"
      ],
      "execution_count": 15,
      "outputs": [
        {
          "output_type": "execute_result",
          "data": {
            "text/plain": [
              "-1.0"
            ]
          },
          "metadata": {},
          "execution_count": 15
        }
      ]
    },
    {
      "cell_type": "markdown",
      "metadata": {
        "id": "6Nh5JWYouFXf"
      },
      "source": [
        "Значит, вероятность будет равна:"
      ]
    },
    {
      "cell_type": "code",
      "metadata": {
        "colab": {
          "base_uri": "https://localhost:8080/"
        },
        "id": "gynnyfFluNFO",
        "outputId": "ec332d11-3f6c-4ad7-88d0-202b51243090"
      },
      "source": [
        "p=(95.44-68.26)/2+68.26\n",
        "p"
      ],
      "execution_count": 17,
      "outputs": [
        {
          "output_type": "execute_result",
          "data": {
            "text/plain": [
              "81.85"
            ]
          },
          "metadata": {},
          "execution_count": 17
        }
      ]
    },
    {
      "cell_type": "markdown",
      "metadata": {
        "id": "rvvbm4T6uxZc"
      },
      "source": [
        "Ответ: 81,85%"
      ]
    },
    {
      "cell_type": "markdown",
      "metadata": {
        "id": "SghRmmgIu0fq"
      },
      "source": [
        "г) Под прошлыми буквами вычислили, что значения 166 и 182 соответствуют -1сигма и 1сигма соответственно. Значит, вероятность, что рост лежит в этом промежутке, равен 68,26%"
      ]
    },
    {
      "cell_type": "markdown",
      "metadata": {
        "id": "5VunSCd1vUny"
      },
      "source": [
        "Ответ: 68,26%"
      ]
    },
    {
      "cell_type": "markdown",
      "metadata": {
        "id": "zx-OUfE-vZid"
      },
      "source": [
        "д) Вычислим, какому значению z соответствует рост 158 см: "
      ]
    },
    {
      "cell_type": "code",
      "metadata": {
        "colab": {
          "base_uri": "https://localhost:8080/"
        },
        "id": "3LD9GmlBvn74",
        "outputId": "ad1ade45-0af1-4280-c0b4-b85e317d32f6"
      },
      "source": [
        "x=158\n",
        "z=(x-m)/s\n",
        "z"
      ],
      "execution_count": 18,
      "outputs": [
        {
          "output_type": "execute_result",
          "data": {
            "text/plain": [
              "-2.0"
            ]
          },
          "metadata": {},
          "execution_count": 18
        }
      ]
    },
    {
      "cell_type": "markdown",
      "metadata": {
        "id": "I8XfQodEvv-o"
      },
      "source": [
        "Занчит, интересующий нас рост лежит в промежутке от -2сигма до 2сигма, а следовательно, вероятность роста в этом промежутке - 95,44%."
      ]
    },
    {
      "cell_type": "markdown",
      "metadata": {
        "id": "wMpajMdXwAqJ"
      },
      "source": [
        "Ответ: 95,44%"
      ]
    },
    {
      "cell_type": "markdown",
      "metadata": {
        "id": "MOXVeMy2wFY-"
      },
      "source": [
        "е) Найдем, какому z соответствует рост 150 см:"
      ]
    },
    {
      "cell_type": "code",
      "metadata": {
        "colab": {
          "base_uri": "https://localhost:8080/"
        },
        "id": "qAatNvq0wY0-",
        "outputId": "5554fe55-361a-4f86-91db-f3fdc42ba65c"
      },
      "source": [
        "x=150\n",
        "z=(x-m)/s\n",
        "z"
      ],
      "execution_count": 19,
      "outputs": [
        {
          "output_type": "execute_result",
          "data": {
            "text/plain": [
              "-3.0"
            ]
          },
          "metadata": {},
          "execution_count": 19
        }
      ]
    },
    {
      "cell_type": "markdown",
      "metadata": {
        "id": "J8PY1-DdwfD9"
      },
      "source": [
        "Мы уже знаем, что рост 190 см соответствует z=2, поэтому вероятность в данному случае будет следующая:"
      ]
    },
    {
      "cell_type": "code",
      "metadata": {
        "colab": {
          "base_uri": "https://localhost:8080/"
        },
        "id": "SUBCduBbwyqL",
        "outputId": "8aa95992-a2a4-4139-f6dd-1f7357460fda"
      },
      "source": [
        "p=(100-99.72)/2+(100-95.44)/2\n",
        "p"
      ],
      "execution_count": 20,
      "outputs": [
        {
          "output_type": "execute_result",
          "data": {
            "text/plain": [
              "2.4200000000000017"
            ]
          },
          "metadata": {},
          "execution_count": 20
        }
      ]
    },
    {
      "cell_type": "markdown",
      "metadata": {
        "id": "sGgWJab1xP-H"
      },
      "source": [
        "Ответ: 2,42%"
      ]
    },
    {
      "cell_type": "markdown",
      "metadata": {
        "id": "niXTDwYUxTg6"
      },
      "source": [
        "ё) Найдем, какому z соответствует значение росто 198 см:"
      ]
    },
    {
      "cell_type": "code",
      "metadata": {
        "colab": {
          "base_uri": "https://localhost:8080/"
        },
        "id": "RTnNlVJexgv9",
        "outputId": "bdc56754-1cf3-4916-a14c-903ca5799db4"
      },
      "source": [
        "x=198\n",
        "z=(x-m)/s\n",
        "z"
      ],
      "execution_count": 21,
      "outputs": [
        {
          "output_type": "execute_result",
          "data": {
            "text/plain": [
              "3.0"
            ]
          },
          "metadata": {},
          "execution_count": 21
        }
      ]
    },
    {
      "cell_type": "markdown",
      "metadata": {
        "id": "ytyZMhWkxoUe"
      },
      "source": [
        "Так как мы уже значем, что 158 см соответствует z=-3, веротяность найдем следующим образом:"
      ]
    },
    {
      "cell_type": "code",
      "metadata": {
        "colab": {
          "base_uri": "https://localhost:8080/"
        },
        "id": "4myDktPhx1j3",
        "outputId": "dfdfca29-3fad-4761-dd7a-703d732270ea"
      },
      "source": [
        "p=100-99.72\n",
        "p"
      ],
      "execution_count": 22,
      "outputs": [
        {
          "output_type": "execute_result",
          "data": {
            "text/plain": [
              "0.28000000000000114"
            ]
          },
          "metadata": {},
          "execution_count": 22
        }
      ]
    },
    {
      "cell_type": "markdown",
      "metadata": {
        "id": "07jJNSQYx-mt"
      },
      "source": [
        "Ответ: 0,28%."
      ]
    },
    {
      "cell_type": "markdown",
      "metadata": {
        "id": "ijlXuXgyyFKX"
      },
      "source": [
        "ж) Мы уже знаем, что 166 см соответствует z=-1, поэтому вероятность, что рост будет ниже этого значения:"
      ]
    },
    {
      "cell_type": "code",
      "metadata": {
        "colab": {
          "base_uri": "https://localhost:8080/"
        },
        "id": "hcJKq7Z0yeFi",
        "outputId": "1bb3f749-0940-4a44-f5ef-bcd80067586f"
      },
      "source": [
        "p=(100-68.26)/2\n",
        "p"
      ],
      "execution_count": 23,
      "outputs": [
        {
          "output_type": "execute_result",
          "data": {
            "text/plain": [
              "15.869999999999997"
            ]
          },
          "metadata": {},
          "execution_count": 23
        }
      ]
    },
    {
      "cell_type": "markdown",
      "metadata": {
        "id": "KRUGITJ-yjwx"
      },
      "source": [
        "Ответ: 15,87%"
      ]
    },
    {
      "cell_type": "markdown",
      "metadata": {
        "id": "vsgWpbH3y0Lw"
      },
      "source": [
        "Задача №5."
      ]
    },
    {
      "cell_type": "code",
      "metadata": {
        "id": "wiIyINYuy3I9"
      },
      "source": [
        "m=178\n",
        "d=25\n",
        "x=190"
      ],
      "execution_count": 25,
      "outputs": []
    },
    {
      "cell_type": "markdown",
      "metadata": {
        "id": "GPaZ_fOOy8iN"
      },
      "source": [
        "Сначала найдем среднее квадратичное отклонение:"
      ]
    },
    {
      "cell_type": "code",
      "metadata": {
        "colab": {
          "base_uri": "https://localhost:8080/"
        },
        "id": "tvM2-KufzTjQ",
        "outputId": "5623b825-c69e-401f-dcc3-8a3f9774a4d7"
      },
      "source": [
        "s=math.sqrt(d)\n",
        "s"
      ],
      "execution_count": 26,
      "outputs": [
        {
          "output_type": "execute_result",
          "data": {
            "text/plain": [
              "5.0"
            ]
          },
          "metadata": {},
          "execution_count": 26
        }
      ]
    },
    {
      "cell_type": "markdown",
      "metadata": {
        "id": "I2Y7MbcFzd7S"
      },
      "source": [
        "Теперь можем найти, какому значению zсоответствует рост 190 см:"
      ]
    },
    {
      "cell_type": "code",
      "metadata": {
        "colab": {
          "base_uri": "https://localhost:8080/"
        },
        "id": "0JyoWkKWzkt6",
        "outputId": "4274303e-fff2-4524-e069-96c0714cc40e"
      },
      "source": [
        "z=(x-m)/s\n",
        "z"
      ],
      "execution_count": 27,
      "outputs": [
        {
          "output_type": "execute_result",
          "data": {
            "text/plain": [
              "4.0"
            ]
          },
          "metadata": {},
          "execution_count": 27
        }
      ]
    },
    {
      "cell_type": "markdown",
      "metadata": {
        "id": "wodKaBc4zqDD"
      },
      "source": [
        "Ответ: на 4 сигмы."
      ]
    }
  ]
}