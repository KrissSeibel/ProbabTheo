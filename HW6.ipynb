{
  "nbformat": 4,
  "nbformat_minor": 0,
  "metadata": {
    "colab": {
      "name": "HW6.ipynb",
      "provenance": [],
      "authorship_tag": "ABX9TyMg9M9JpLfpu5nUSgsXwZiV",
      "include_colab_link": true
    },
    "kernelspec": {
      "name": "python3",
      "display_name": "Python 3"
    },
    "language_info": {
      "name": "python"
    }
  },
  "cells": [
    {
      "cell_type": "markdown",
      "metadata": {
        "id": "view-in-github",
        "colab_type": "text"
      },
      "source": [
        "<a href=\"https://colab.research.google.com/github/KrissSeibel/ProbabTheo/blob/lesson-6/HW6.ipynb\" target=\"_parent\"><img src=\"https://colab.research.google.com/assets/colab-badge.svg\" alt=\"Open In Colab\"/></a>"
      ]
    },
    {
      "cell_type": "code",
      "metadata": {
        "id": "r8i4hHLkR0As"
      },
      "source": [
        "import numpy as np"
      ],
      "execution_count": 63,
      "outputs": []
    },
    {
      "cell_type": "markdown",
      "metadata": {
        "id": "5CqY8laURrnh"
      },
      "source": [
        "Задача №1. "
      ]
    },
    {
      "cell_type": "code",
      "metadata": {
        "id": "EqWuflTlRl98"
      },
      "source": [
        "zp=np.array([35, 45, 190, 200, 40, 70, 54, 150, 120, 110])\n",
        "ks=np.array([401, 574, 874, 919, 459, 739, 653, 902, 746, 832])"
      ],
      "execution_count": 64,
      "outputs": []
    },
    {
      "cell_type": "markdown",
      "metadata": {
        "id": "JgHPGJ63Vc0O"
      },
      "source": [
        "Найдем ковариацию по формуле:"
      ]
    },
    {
      "cell_type": "code",
      "metadata": {
        "colab": {
          "base_uri": "https://localhost:8080/"
        },
        "id": "xJ7rYbXBVaoo",
        "outputId": "82545187-d698-4f19-92ac-e0193884f18e"
      },
      "source": [
        "cov1=np.mean(zp*ks)-np.mean(zp)*np.mean(ks)\n",
        "cov1"
      ],
      "execution_count": 65,
      "outputs": [
        {
          "output_type": "execute_result",
          "data": {
            "text/plain": [
              "9157.839999999997"
            ]
          },
          "metadata": {},
          "execution_count": 65
        }
      ]
    },
    {
      "cell_type": "markdown",
      "metadata": {
        "id": "2OajGUMAXHZB"
      },
      "source": [
        "Найдем ковариацию с помощью функции:"
      ]
    },
    {
      "cell_type": "code",
      "metadata": {
        "colab": {
          "base_uri": "https://localhost:8080/"
        },
        "id": "uRLnBEAWXPAE",
        "outputId": "044f853c-7e14-45cf-ac73-239971e9e2c8"
      },
      "source": [
        "cov2=np.cov(zp, ks, ddof=0)\n",
        "cov2"
      ],
      "execution_count": 67,
      "outputs": [
        {
          "output_type": "execute_result",
          "data": {
            "text/plain": [
              "array([[ 3494.64,  9157.84],\n",
              "       [ 9157.84, 30468.89]])"
            ]
          },
          "metadata": {},
          "execution_count": 67
        }
      ]
    },
    {
      "cell_type": "markdown",
      "metadata": {
        "id": "CnJcFZ0hZj6u"
      },
      "source": [
        "Чтобы найти коэффициент корреляции Пирсона, найдем сначала средние квадратичные отклонения для обеих величин:"
      ]
    },
    {
      "cell_type": "code",
      "metadata": {
        "colab": {
          "base_uri": "https://localhost:8080/"
        },
        "id": "Z-ssD8uyX3w0",
        "outputId": "770ff547-c16c-4b0e-9c65-16cac2b49024"
      },
      "source": [
        "x0=np.mean(zp)\n",
        "e=0\n",
        "for x in  zp:\n",
        "  e=e+(x-x0)**2\n",
        "s1=np.sqrt(e/len(zp))\n",
        "s1"
      ],
      "execution_count": 68,
      "outputs": [
        {
          "output_type": "execute_result",
          "data": {
            "text/plain": [
              "59.115480206118605"
            ]
          },
          "metadata": {},
          "execution_count": 68
        }
      ]
    },
    {
      "cell_type": "code",
      "metadata": {
        "colab": {
          "base_uri": "https://localhost:8080/"
        },
        "id": "gQuzLFPaZOKe",
        "outputId": "6f1116b6-b341-4616-dce7-5e2be3c907d3"
      },
      "source": [
        "x0=np.mean(ks)\n",
        "e=0\n",
        "for x in ks:\n",
        "  e=e+(x-x0)**2\n",
        "s2=np.sqrt(e/len(ks))\n",
        "s2"
      ],
      "execution_count": 69,
      "outputs": [
        {
          "output_type": "execute_result",
          "data": {
            "text/plain": [
              "174.55340157098058"
            ]
          },
          "metadata": {},
          "execution_count": 69
        }
      ]
    },
    {
      "cell_type": "markdown",
      "metadata": {
        "id": "7qjB5cLSZysJ"
      },
      "source": [
        "Теперь подставим полученные значения в формулу:"
      ]
    },
    {
      "cell_type": "code",
      "metadata": {
        "colab": {
          "base_uri": "https://localhost:8080/"
        },
        "id": "RDA49k4hZ9kY",
        "outputId": "e27dd8e4-7548-4e35-9d4d-b25ce9587828"
      },
      "source": [
        "r1=cov1/(s1*s2)\n",
        "r1"
      ],
      "execution_count": 70,
      "outputs": [
        {
          "output_type": "execute_result",
          "data": {
            "text/plain": [
              "0.8874900920739158"
            ]
          },
          "metadata": {},
          "execution_count": 70
        }
      ]
    },
    {
      "cell_type": "markdown",
      "metadata": {
        "id": "LtP2O24XaTLk"
      },
      "source": [
        "Теперь то же самое, с помощью библиотек:"
      ]
    },
    {
      "cell_type": "code",
      "metadata": {
        "colab": {
          "base_uri": "https://localhost:8080/"
        },
        "id": "RAMzJlXVaXv9",
        "outputId": "695e068b-8b30-47ba-91e1-3c0c133c778d"
      },
      "source": [
        "s1=np.std(zp, ddof=0)\n",
        "s1"
      ],
      "execution_count": 71,
      "outputs": [
        {
          "output_type": "execute_result",
          "data": {
            "text/plain": [
              "59.115480206118605"
            ]
          },
          "metadata": {},
          "execution_count": 71
        }
      ]
    },
    {
      "cell_type": "code",
      "metadata": {
        "colab": {
          "base_uri": "https://localhost:8080/"
        },
        "id": "y86yhJzha1Lb",
        "outputId": "d1fe4833-5ff4-483a-d0c9-598eb8fedc38"
      },
      "source": [
        "s2=np.std(ks, ddof=0)\n",
        "s2"
      ],
      "execution_count": 72,
      "outputs": [
        {
          "output_type": "execute_result",
          "data": {
            "text/plain": [
              "174.55340157098058"
            ]
          },
          "metadata": {},
          "execution_count": 72
        }
      ]
    },
    {
      "cell_type": "code",
      "metadata": {
        "colab": {
          "base_uri": "https://localhost:8080/"
        },
        "id": "oeL4-QdJb1T2",
        "outputId": "b9ffa8bf-8bf9-487d-bfff-e2acf6f351c8"
      },
      "source": [
        "r2=cov1/(s1*s2)\n",
        "r2"
      ],
      "execution_count": 73,
      "outputs": [
        {
          "output_type": "execute_result",
          "data": {
            "text/plain": [
              "0.8874900920739158"
            ]
          },
          "metadata": {},
          "execution_count": 73
        }
      ]
    },
    {
      "cell_type": "markdown",
      "metadata": {
        "id": "hZAtojxXcBFx"
      },
      "source": [
        "Задача №2."
      ]
    },
    {
      "cell_type": "code",
      "metadata": {
        "id": "6tFaYvJXcDvl"
      },
      "source": [
        "iq=np.array([131, 125, 115, 122, 131, 115, 107, 99, 125, 111])\n",
        "g=0.95"
      ],
      "execution_count": 46,
      "outputs": []
    },
    {
      "cell_type": "markdown",
      "metadata": {
        "id": "choRwpukdDux"
      },
      "source": [
        "Найдем сраднее значение выборки и сигму выборки:"
      ]
    },
    {
      "cell_type": "code",
      "metadata": {
        "colab": {
          "base_uri": "https://localhost:8080/"
        },
        "id": "HJFNX-g3gWBO",
        "outputId": "ae894d88-421f-4c2b-de40-e7c56eb0d200"
      },
      "source": [
        "x=np.mean(iq)\n",
        "x"
      ],
      "execution_count": 48,
      "outputs": [
        {
          "output_type": "execute_result",
          "data": {
            "text/plain": [
              "118.1"
            ]
          },
          "metadata": {},
          "execution_count": 48
        }
      ]
    },
    {
      "cell_type": "code",
      "metadata": {
        "colab": {
          "base_uri": "https://localhost:8080/"
        },
        "id": "Xy9P2z_EdGwy",
        "outputId": "0f3261a9-bc6b-461b-9228-8975a2e8e529"
      },
      "source": [
        "s=np.std(iq, ddof=1)\n",
        "s"
      ],
      "execution_count": 49,
      "outputs": [
        {
          "output_type": "execute_result",
          "data": {
            "text/plain": [
              "10.54566788359614"
            ]
          },
          "metadata": {},
          "execution_count": 49
        }
      ]
    },
    {
      "cell_type": "markdown",
      "metadata": {
        "id": "5hzN8gajgJG5"
      },
      "source": [
        "Для построения доверительного интервала нам нужно знать, чема равна альфа пополам:"
      ]
    },
    {
      "cell_type": "code",
      "metadata": {
        "colab": {
          "base_uri": "https://localhost:8080/"
        },
        "id": "pmh2rN9ggogS",
        "outputId": "3e71d5c9-c880-4bcd-f656-51390d762c98"
      },
      "source": [
        "a=(1-g)/2\n",
        "a"
      ],
      "execution_count": 50,
      "outputs": [
        {
          "output_type": "execute_result",
          "data": {
            "text/plain": [
              "0.025000000000000022"
            ]
          },
          "metadata": {},
          "execution_count": 50
        }
      ]
    },
    {
      "cell_type": "markdown",
      "metadata": {
        "id": "MXRROI_ghZSL"
      },
      "source": [
        "И определяем объем выборки:"
      ]
    },
    {
      "cell_type": "code",
      "metadata": {
        "colab": {
          "base_uri": "https://localhost:8080/"
        },
        "id": "D4VZAiZChYjX",
        "outputId": "1bf0f2d3-ea60-4d98-d61f-a2d76a2794ac"
      },
      "source": [
        "n=len(iq)\n",
        "n"
      ],
      "execution_count": 52,
      "outputs": [
        {
          "output_type": "execute_result",
          "data": {
            "text/plain": [
              "10"
            ]
          },
          "metadata": {},
          "execution_count": 52
        }
      ]
    },
    {
      "cell_type": "markdown",
      "metadata": {
        "id": "UwT3XxJDgxBP"
      },
      "source": [
        "Поскольку сигма генеральной совокупности нам неизвестна, используем t-критерий. данному значению альфа пополам соответствует значение t 2,262."
      ]
    },
    {
      "cell_type": "code",
      "metadata": {
        "id": "6kmSl2YSiFh6"
      },
      "source": [
        "t=2.262"
      ],
      "execution_count": 53,
      "outputs": []
    },
    {
      "cell_type": "markdown",
      "metadata": {
        "id": "YH-nHI0YiDhR"
      },
      "source": [
        "Теперь определяем границфы доверительного интервала:"
      ]
    },
    {
      "cell_type": "code",
      "metadata": {
        "colab": {
          "base_uri": "https://localhost:8080/"
        },
        "id": "0UmT4_4LiPbf",
        "outputId": "a82630ca-5165-4595-ef9d-7079b1be6cdf"
      },
      "source": [
        "t1=x+t*s/np.sqrt(n)\n",
        "t1"
      ],
      "execution_count": 54,
      "outputs": [
        {
          "output_type": "execute_result",
          "data": {
            "text/plain": [
              "125.64339223691834"
            ]
          },
          "metadata": {},
          "execution_count": 54
        }
      ]
    },
    {
      "cell_type": "code",
      "metadata": {
        "colab": {
          "base_uri": "https://localhost:8080/"
        },
        "id": "VNc3g4qViYVx",
        "outputId": "3c9bf5cf-d4f6-4717-b738-fe04f96b04d8"
      },
      "source": [
        "t2=x-t*s/np.sqrt(n)\n",
        "t2"
      ],
      "execution_count": 55,
      "outputs": [
        {
          "output_type": "execute_result",
          "data": {
            "text/plain": [
              "110.55660776308164"
            ]
          },
          "metadata": {},
          "execution_count": 55
        }
      ]
    },
    {
      "cell_type": "markdown",
      "metadata": {
        "id": "3zSze6BUieXt"
      },
      "source": [
        "Ответ: [110,56; 125,64]."
      ]
    },
    {
      "cell_type": "markdown",
      "metadata": {
        "id": "xNkEJOPGiuBA"
      },
      "source": [
        "Задача №3."
      ]
    },
    {
      "cell_type": "code",
      "metadata": {
        "id": "SLt5POJmi1z2"
      },
      "source": [
        "d=25\n",
        "n=27\n",
        "x=174.5\n",
        "g=0.95"
      ],
      "execution_count": 58,
      "outputs": []
    },
    {
      "cell_type": "markdown",
      "metadata": {
        "id": "bVsUmpivjJo-"
      },
      "source": [
        "Так как мы значем дисперсию генеральной совокупности (а значит и сигму), будем использовать z-критерий. Для этого определяем, чем равно альфа пополам:"
      ]
    },
    {
      "cell_type": "code",
      "metadata": {
        "colab": {
          "base_uri": "https://localhost:8080/"
        },
        "id": "avpqWeOBjJDp",
        "outputId": "63942529-c84a-4f01-895f-c04698fb6eb6"
      },
      "source": [
        "a=(1-g)/2\n",
        "a"
      ],
      "execution_count": 59,
      "outputs": [
        {
          "output_type": "execute_result",
          "data": {
            "text/plain": [
              "0.025000000000000022"
            ]
          },
          "metadata": {},
          "execution_count": 59
        }
      ]
    },
    {
      "cell_type": "markdown",
      "metadata": {
        "id": "iFYReqpojzWZ"
      },
      "source": [
        "Этому значению альфа пополам соответствует значение z, равное 1,96."
      ]
    },
    {
      "cell_type": "code",
      "metadata": {
        "id": "UIWz9FAdkW9W"
      },
      "source": [
        "z=1.96"
      ],
      "execution_count": 60,
      "outputs": []
    },
    {
      "cell_type": "markdown",
      "metadata": {
        "id": "uAHvO7T9kZ9j"
      },
      "source": [
        "Теперь находим границы доверительного интервала:"
      ]
    },
    {
      "cell_type": "code",
      "metadata": {
        "colab": {
          "base_uri": "https://localhost:8080/"
        },
        "id": "1it8J70NkeCr",
        "outputId": "42d42787-0c71-4029-c8d0-958c0e70241a"
      },
      "source": [
        "t1=x+z*np.sqrt(d)/np.sqrt(n)\n",
        "t1"
      ],
      "execution_count": 61,
      "outputs": [
        {
          "output_type": "execute_result",
          "data": {
            "text/plain": [
              "176.38601087935277"
            ]
          },
          "metadata": {},
          "execution_count": 61
        }
      ]
    },
    {
      "cell_type": "code",
      "metadata": {
        "colab": {
          "base_uri": "https://localhost:8080/"
        },
        "id": "N5M-mR92koCK",
        "outputId": "6c9a8db1-5966-4221-b7da-2078d56f34f4"
      },
      "source": [
        "t2=x-z*np.sqrt(d)/np.sqrt(n)\n",
        "t2"
      ],
      "execution_count": 62,
      "outputs": [
        {
          "output_type": "execute_result",
          "data": {
            "text/plain": [
              "172.61398912064723"
            ]
          },
          "metadata": {},
          "execution_count": 62
        }
      ]
    },
    {
      "cell_type": "markdown",
      "metadata": {
        "id": "jlL6kxP5k0vt"
      },
      "source": [
        "Ответ: [172,61; 176,39]."
      ]
    }
  ]
}