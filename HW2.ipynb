{
  "nbformat": 4,
  "nbformat_minor": 0,
  "metadata": {
    "colab": {
      "name": "HW2.ipynb",
      "provenance": [],
      "authorship_tag": "ABX9TyNO3pp1ToIFap5zHtCxiF6J",
      "include_colab_link": true
    },
    "kernelspec": {
      "name": "python3",
      "display_name": "Python 3"
    },
    "language_info": {
      "name": "python"
    }
  },
  "cells": [
    {
      "cell_type": "markdown",
      "metadata": {
        "id": "view-in-github",
        "colab_type": "text"
      },
      "source": [
        "<a href=\"https://colab.research.google.com/github/KrissSeibel/ProbabTheo/blob/lesson-2/HW2.ipynb\" target=\"_parent\"><img src=\"https://colab.research.google.com/assets/colab-badge.svg\" alt=\"Open In Colab\"/></a>"
      ]
    },
    {
      "cell_type": "code",
      "metadata": {
        "id": "FT3LCvWPAWiX"
      },
      "source": [
        "import math\n",
        "def pn(n,k,p):\n",
        "  q=1-p\n",
        "  return math.factorial(n)/(math.factorial(k)*math.factorial(n-k))*(p**k)*(q**(n-k))\n",
        "\n",
        "def pm(p,n,m):\n",
        "  l=p*n\n",
        "  return (l**m)/math.factorial(m)*(math.e**(-1*l))\n",
        "\n",
        "def c(n,k):\n",
        "  return math.factorial(n)/(math.factorial(k)*math.factorial(n-k))"
      ],
      "execution_count": 11,
      "outputs": []
    },
    {
      "cell_type": "markdown",
      "metadata": {
        "id": "zMJORCIG4UrE"
      },
      "source": [
        "Задача №1."
      ]
    },
    {
      "cell_type": "markdown",
      "metadata": {
        "id": "HF9yLMo-4TCT"
      },
      "source": [
        "Очевидно перед нами биномиальное распределение. Тогда:"
      ]
    },
    {
      "cell_type": "code",
      "metadata": {
        "colab": {
          "base_uri": "https://localhost:8080/"
        },
        "id": "W3fXO6pg4iOD",
        "outputId": "c08052e7-86f6-42d3-9496-9abf5a761f45"
      },
      "source": [
        "pn(100,85,0.8)"
      ],
      "execution_count": 10,
      "outputs": [
        {
          "output_type": "execute_result",
          "data": {
            "text/plain": [
              "0.048061793700746355"
            ]
          },
          "metadata": {},
          "execution_count": 10
        }
      ]
    },
    {
      "cell_type": "markdown",
      "metadata": {
        "id": "7ZGj1EgE5S56"
      },
      "source": [
        "Ответ: 4,8%"
      ]
    },
    {
      "cell_type": "markdown",
      "metadata": {
        "id": "PxLhGeoN5eNJ"
      },
      "source": [
        "Задача №2."
      ]
    },
    {
      "cell_type": "markdown",
      "metadata": {
        "id": "qJ0ZcfBI5hJY"
      },
      "source": [
        "Используем распределение Пуассона. Тогда для 0 перегоревших лампочек:"
      ]
    },
    {
      "cell_type": "code",
      "metadata": {
        "colab": {
          "base_uri": "https://localhost:8080/"
        },
        "id": "ubXn0mXc6myX",
        "outputId": "ace4de8a-3c0f-4159-f3dc-b81470823165"
      },
      "source": [
        "pm(0.0004,5000,0)"
      ],
      "execution_count": 12,
      "outputs": [
        {
          "output_type": "execute_result",
          "data": {
            "text/plain": [
              "0.1353352832366127"
            ]
          },
          "metadata": {},
          "execution_count": 12
        }
      ]
    },
    {
      "cell_type": "markdown",
      "metadata": {
        "id": "SplWEQ-iDmpc"
      },
      "source": [
        "Ответ: 13,53%"
      ]
    },
    {
      "cell_type": "markdown",
      "metadata": {
        "id": "9D-Y5k_n8gJ6"
      },
      "source": [
        "Для двух перегоревших лампочек:"
      ]
    },
    {
      "cell_type": "code",
      "metadata": {
        "colab": {
          "base_uri": "https://localhost:8080/"
        },
        "id": "IOB4e45T8fP2",
        "outputId": "ec896288-6e6c-4530-b4c6-c9ba141ff190"
      },
      "source": [
        "pm(0.0004,5000,2)"
      ],
      "execution_count": 13,
      "outputs": [
        {
          "output_type": "execute_result",
          "data": {
            "text/plain": [
              "0.2706705664732254"
            ]
          },
          "metadata": {},
          "execution_count": 13
        }
      ]
    },
    {
      "cell_type": "markdown",
      "metadata": {
        "id": "hgCeOH85Dshq"
      },
      "source": [
        "Ответ: 27,07%"
      ]
    },
    {
      "cell_type": "markdown",
      "metadata": {
        "id": "HNPG7J6K9TWg"
      },
      "source": [
        "Задача №3."
      ]
    },
    {
      "cell_type": "markdown",
      "metadata": {
        "id": "xF37aIif9YHs"
      },
      "source": [
        "Воспользуемся биномиальным распределением. Тогда:"
      ]
    },
    {
      "cell_type": "code",
      "metadata": {
        "colab": {
          "base_uri": "https://localhost:8080/"
        },
        "id": "ld7bAGOG9fyW",
        "outputId": "ab7433b7-be49-462a-b374-602bbe1ab31a"
      },
      "source": [
        "pn(144,70,0.5)"
      ],
      "execution_count": 14,
      "outputs": [
        {
          "output_type": "execute_result",
          "data": {
            "text/plain": [
              "0.06281178035144776"
            ]
          },
          "metadata": {},
          "execution_count": 14
        }
      ]
    },
    {
      "cell_type": "markdown",
      "metadata": {
        "id": "G59YU3toD1Sn"
      },
      "source": [
        "Ответ: 6,28%"
      ]
    },
    {
      "cell_type": "markdown",
      "metadata": {
        "id": "E0UXOQguD5OE"
      },
      "source": [
        "Задача №4."
      ]
    },
    {
      "cell_type": "code",
      "metadata": {
        "id": "S19UBAufask5"
      },
      "source": [
        "n1=10\n",
        "k1=7\n",
        "n2=11\n",
        "k2=9"
      ],
      "execution_count": 2,
      "outputs": []
    },
    {
      "cell_type": "markdown",
      "metadata": {
        "id": "joKXpd48aWBb"
      },
      "source": [
        "Тогда, вероятность, что все мячи белые:"
      ]
    },
    {
      "cell_type": "code",
      "metadata": {
        "colab": {
          "base_uri": "https://localhost:8080/"
        },
        "id": "eLrkh8vaajmy",
        "outputId": "f2d85a68-bd79-48e6-cf72-28ed5a50ec07"
      },
      "source": [
        "p=(k1/n1)*((k1-1)/(n1-1))*(k2/n2)*((k2-1)/(n2-1))\n",
        "p"
      ],
      "execution_count": 3,
      "outputs": [
        {
          "output_type": "execute_result",
          "data": {
            "text/plain": [
              "0.3054545454545454"
            ]
          },
          "metadata": {},
          "execution_count": 3
        }
      ]
    },
    {
      "cell_type": "markdown",
      "metadata": {
        "id": "VgIYZBrXclue"
      },
      "source": [
        "Ответ: 30,5%"
      ]
    },
    {
      "cell_type": "markdown",
      "metadata": {
        "id": "qhxCv17acxMe"
      },
      "source": [
        "В вопросе про два мяча следует рассмотреть несколько случаев: из первого ящика оба белые, из второго оба черные; из первого ящика оба черные, из второго оба белые; из обоих ящиков по одному черному и одному белому. "
      ]
    },
    {
      "cell_type": "markdown",
      "metadata": {
        "id": "LlBqcbgwe2l4"
      },
      "source": [
        "Вероятность, что из первого ящика оба белые, а из второго - оба черные:"
      ]
    },
    {
      "cell_type": "code",
      "metadata": {
        "colab": {
          "base_uri": "https://localhost:8080/"
        },
        "id": "VnOK8lbheKlS",
        "outputId": "1e4071cd-02f9-41d8-a6c2-2d0632085082"
      },
      "source": [
        "p1=(k1/n1)*((k1-1)/(n1-1))*((n2-k2)/n2)*((n2-k2-1)/(n2-1))\n",
        "p1"
      ],
      "execution_count": 11,
      "outputs": [
        {
          "output_type": "execute_result",
          "data": {
            "text/plain": [
              "0.008484848484848484"
            ]
          },
          "metadata": {},
          "execution_count": 11
        }
      ]
    },
    {
      "cell_type": "markdown",
      "metadata": {
        "id": "-7x8WWu0ezn2"
      },
      "source": [
        "Наоборот, оба мяча из первого ящика черные, из второго - оба белые:"
      ]
    },
    {
      "cell_type": "code",
      "metadata": {
        "colab": {
          "base_uri": "https://localhost:8080/"
        },
        "id": "YStLdv4ufGVE",
        "outputId": "d3fb8d20-97ce-4b9b-b769-94d7b8295092"
      },
      "source": [
        "p2=((n1-k1)/n1)*((n1-k1-1)/(n1-1))*(k2/n2)*((k2-1)/(n2-1))\n",
        "p2"
      ],
      "execution_count": 5,
      "outputs": [
        {
          "output_type": "execute_result",
          "data": {
            "text/plain": [
              "0.04363636363636364"
            ]
          },
          "metadata": {},
          "execution_count": 5
        }
      ]
    },
    {
      "cell_type": "markdown",
      "metadata": {
        "id": "PrPoVFQsfsrB"
      },
      "source": [
        "И из каждого ящика по одному черному и одному белому мячу:"
      ]
    },
    {
      "cell_type": "code",
      "metadata": {
        "colab": {
          "base_uri": "https://localhost:8080/"
        },
        "id": "-7o5nKXYf0xj",
        "outputId": "afc54f92-7da0-4c42-9c05-b4ae8556fa7b"
      },
      "source": [
        "p3=(((k1/n1)*((n1-k1)/(n1-1)))+(((n1-k1)/n1)*(k1/(n1-1))))*(((k2/n2)*((n2-k2)/(n2-1)))+(((n2-k2)/n2)*(k2/(n2-1))))\n",
        "p3"
      ],
      "execution_count": 9,
      "outputs": [
        {
          "output_type": "execute_result",
          "data": {
            "text/plain": [
              "0.15272727272727274"
            ]
          },
          "metadata": {},
          "execution_count": 9
        }
      ]
    },
    {
      "cell_type": "code",
      "metadata": {
        "colab": {
          "base_uri": "https://localhost:8080/"
        },
        "id": "BxCJtNB_gcNv",
        "outputId": "5a4592fb-04f7-4e03-c398-6d7c09e32cfa"
      },
      "source": [
        "p=p1+p2+p3\n",
        "p"
      ],
      "execution_count": 12,
      "outputs": [
        {
          "output_type": "execute_result",
          "data": {
            "text/plain": [
              "0.20484848484848486"
            ]
          },
          "metadata": {},
          "execution_count": 12
        }
      ]
    },
    {
      "cell_type": "markdown",
      "metadata": {
        "id": "CBd5DJzzgtpg"
      },
      "source": [
        "Ответ: 20,48%"
      ]
    },
    {
      "cell_type": "markdown",
      "metadata": {
        "id": "gqEhn92Oh55n"
      },
      "source": [
        "Вероятность, что хотя бы один мяч белый, вычислим от обратного: определим, какова вероятнось, что белых мячей ни одного, и вычтем ее из единицы."
      ]
    },
    {
      "cell_type": "code",
      "metadata": {
        "colab": {
          "base_uri": "https://localhost:8080/"
        },
        "id": "OOyIEnapiLLB",
        "outputId": "13d652c2-3671-4430-86cd-06be30521f8f"
      },
      "source": [
        "p=1-(((n1-k1)/n1)*((n1-k1-1)/(n1-1))*((n2-k2)/n2)*((n2-k2-1)/(n2-1)))\n",
        "p"
      ],
      "execution_count": 7,
      "outputs": [
        {
          "output_type": "execute_result",
          "data": {
            "text/plain": [
              "0.9987878787878788"
            ]
          },
          "metadata": {},
          "execution_count": 7
        }
      ]
    },
    {
      "cell_type": "markdown",
      "metadata": {
        "id": "1Rg977krirwR"
      },
      "source": [
        "Ответ: 99,88%"
      ]
    }
  ]
}