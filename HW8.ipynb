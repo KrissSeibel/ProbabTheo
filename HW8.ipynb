{
  "nbformat": 4,
  "nbformat_minor": 0,
  "metadata": {
    "colab": {
      "name": "HW8.ipynb",
      "provenance": [],
      "authorship_tag": "ABX9TyMfRyCb2K0MJ/pBoYoeH0a5",
      "include_colab_link": true
    },
    "kernelspec": {
      "name": "python3",
      "display_name": "Python 3"
    },
    "language_info": {
      "name": "python"
    }
  },
  "cells": [
    {
      "cell_type": "markdown",
      "metadata": {
        "id": "view-in-github",
        "colab_type": "text"
      },
      "source": [
        "<a href=\"https://colab.research.google.com/github/KrissSeibel/ProbabTheo/blob/lesson-8/HW8.ipynb\" target=\"_parent\"><img src=\"https://colab.research.google.com/assets/colab-badge.svg\" alt=\"Open In Colab\"/></a>"
      ]
    },
    {
      "cell_type": "markdown",
      "metadata": {
        "id": "156Aknq0sMgf"
      },
      "source": [
        "Задача №1."
      ]
    },
    {
      "cell_type": "code",
      "metadata": {
        "id": "KqXgDhfqr9bG"
      },
      "source": [
        "import numpy as np\n",
        "from scipy import stats"
      ],
      "execution_count": 1,
      "outputs": []
    },
    {
      "cell_type": "code",
      "metadata": {
        "id": "fAY2mZ8Jsepl"
      },
      "source": [
        "y1=np.array([173, 175, 180, 178, 177, 185, 183, 182])\n",
        "y2=np.array([177, 179, 180, 188, 177, 172, 171, 184, 180])\n",
        "y3=np.array([172, 173, 169, 177, 166, 180, 178, 177, 172, 166, 170])"
      ],
      "execution_count": 2,
      "outputs": []
    },
    {
      "cell_type": "markdown",
      "metadata": {
        "id": "x1bp37T3JNyZ"
      },
      "source": [
        "Примем в качестве гипотезы ho гипотезу, что мю1=мю2=мю3. В качестве альтернативной гипотезу примем, что мю1≠мю2≠мю3. В качестве уровня значимости возьмем альфа=0,05 Тогда:"
      ]
    },
    {
      "cell_type": "code",
      "metadata": {
        "id": "sDGjavcitwyE",
        "colab": {
          "base_uri": "https://localhost:8080/"
        },
        "outputId": "5a6b6c25-0199-4ced-956c-95da69fa086a"
      },
      "source": [
        "stats.f_oneway(y1, y2, y3)"
      ],
      "execution_count": 3,
      "outputs": [
        {
          "output_type": "execute_result",
          "data": {
            "text/plain": [
              "F_onewayResult(statistic=5.500053450812596, pvalue=0.010482206918698694)"
            ]
          },
          "metadata": {},
          "execution_count": 3
        }
      ]
    },
    {
      "cell_type": "markdown",
      "metadata": {
        "id": "BRcR9K2vKYI2"
      },
      "source": [
        "Мы получили p-value=0,01, что меньше определенного нами заранее уровня значимости альфа=0,05, значит значение p-value попадает в критическую область, соответственно мы должны отвергнуть гипотезу Н0 и принять, что между ростом футболистов, хоккеистов и штангистов имеется статистически значимая разница."
      ]
    }
  ]
}