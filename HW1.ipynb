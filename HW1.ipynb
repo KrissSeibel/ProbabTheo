{
  "nbformat": 4,
  "nbformat_minor": 0,
  "metadata": {
    "colab": {
      "name": "HW1.ipynb",
      "provenance": [],
      "authorship_tag": "ABX9TyPd8eGT1Rv6uIxoRZJCvdJk",
      "include_colab_link": true
    },
    "kernelspec": {
      "name": "python3",
      "display_name": "Python 3"
    },
    "language_info": {
      "name": "python"
    }
  },
  "cells": [
    {
      "cell_type": "markdown",
      "metadata": {
        "id": "view-in-github",
        "colab_type": "text"
      },
      "source": [
        "<a href=\"https://colab.research.google.com/github/KrissSeibel/ProbabTheo/blob/lesson-1/HW1.ipynb\" target=\"_parent\"><img src=\"https://colab.research.google.com/assets/colab-badge.svg\" alt=\"Open In Colab\"/></a>"
      ]
    },
    {
      "cell_type": "markdown",
      "metadata": {
        "id": "E5ABxzUzv_-X"
      },
      "source": [
        "Задача №1.\n"
      ]
    },
    {
      "cell_type": "markdown",
      "metadata": {
        "id": "N-m4m_YxxvLw"
      },
      "source": [
        "а) Сначала найдем все сочетания крестей по 4 штуки."
      ]
    },
    {
      "cell_type": "code",
      "metadata": {
        "colab": {
          "base_uri": "https://localhost:8080/"
        },
        "id": "mF76yQg5ilrl",
        "outputId": "a8d738bf-8589-4aa8-a4bc-c952e19c16dc"
      },
      "source": [
        "import math\n",
        "c1=math.factorial(13)/(math.factorial(4)*math.factorial(13-4))\n",
        "c1"
      ],
      "execution_count": 2,
      "outputs": [
        {
          "output_type": "execute_result",
          "data": {
            "text/plain": [
              "715.0"
            ]
          },
          "metadata": {},
          "execution_count": 2
        }
      ]
    },
    {
      "cell_type": "markdown",
      "metadata": {
        "id": "h9phquM4xVyv"
      },
      "source": [
        "Затем найдем все возможные сочетания всех карт по 4 штуки.\n"
      ]
    },
    {
      "cell_type": "code",
      "metadata": {
        "colab": {
          "base_uri": "https://localhost:8080/"
        },
        "id": "cbB3R6_qxs_h",
        "outputId": "f9ff714c-0ddf-454d-e46f-8f354bbd9bac"
      },
      "source": [
        "c2=math.factorial(52)/(math.factorial(4)*math.factorial(52-4))\n",
        "c2"
      ],
      "execution_count": 3,
      "outputs": [
        {
          "output_type": "execute_result",
          "data": {
            "text/plain": [
              "270725.0"
            ]
          },
          "metadata": {},
          "execution_count": 3
        }
      ]
    },
    {
      "cell_type": "markdown",
      "metadata": {
        "id": "H_qmA_bwyYDM"
      },
      "source": [
        "Вероятность, что все карты - крести, вычислим по формуле P = C1 / C2"
      ]
    },
    {
      "cell_type": "code",
      "metadata": {
        "colab": {
          "base_uri": "https://localhost:8080/"
        },
        "id": "ZVKjmGuSystg",
        "outputId": "ccfa9ef3-bb59-4d30-ecef-03dd9d178f18"
      },
      "source": [
        "p=c1/c2\n",
        "p"
      ],
      "execution_count": 4,
      "outputs": [
        {
          "output_type": "execute_result",
          "data": {
            "text/plain": [
              "0.0026410564225690276"
            ]
          },
          "metadata": {},
          "execution_count": 4
        }
      ]
    },
    {
      "cell_type": "markdown",
      "metadata": {
        "id": "eQWSNV3Wy3D5"
      },
      "source": [
        "Ответ: 0,26%"
      ]
    },
    {
      "cell_type": "markdown",
      "metadata": {
        "id": "Vb718QxRzENh"
      },
      "source": [
        "б) Первый вариант решения. Разобьем задачу на несколько пунктов:\n"
      ]
    },
    {
      "cell_type": "markdown",
      "metadata": {
        "id": "oNoYMnN3ziaA"
      },
      "source": [
        "  1) Находим количество сочетаний карт из одного туза (тузов всего 4) и трех нетузов (их всего 52-4=48).\n"
      ]
    },
    {
      "cell_type": "markdown",
      "metadata": {
        "id": "tZr5pQtKz0Tc"
      },
      "source": [
        "Всего существует 4 комбинации по одному тузy. Количество комбинаций по три нетуза найдем следующим образом:\n",
        "\n",
        "\n",
        "---\n",
        "\n"
      ]
    },
    {
      "cell_type": "code",
      "metadata": {
        "colab": {
          "base_uri": "https://localhost:8080/"
        },
        "id": "vWz1JlqD0OYP",
        "outputId": "ec503e02-ca1b-4d8e-8519-dce93e1a1a9a"
      },
      "source": [
        "c1=4\n",
        "c2=math.factorial(48)/(math.factorial(3)*math.factorial(48-3))\n",
        "c2"
      ],
      "execution_count": 23,
      "outputs": [
        {
          "output_type": "execute_result",
          "data": {
            "text/plain": [
              "17296.0"
            ]
          },
          "metadata": {},
          "execution_count": 23
        }
      ]
    },
    {
      "cell_type": "markdown",
      "metadata": {
        "id": "Xuu126PV1TZv"
      },
      "source": [
        "Значит, всего комбинаций из одного туза и трех нетузов:"
      ]
    },
    {
      "cell_type": "code",
      "metadata": {
        "colab": {
          "base_uri": "https://localhost:8080/"
        },
        "id": "cWa7Gkph1eDY",
        "outputId": "820de903-b80b-41e5-f23d-438ad55890c5"
      },
      "source": [
        "c13=c1*c2\n",
        "c13"
      ],
      "execution_count": 24,
      "outputs": [
        {
          "output_type": "execute_result",
          "data": {
            "text/plain": [
              "69184.0"
            ]
          },
          "metadata": {},
          "execution_count": 24
        }
      ]
    },
    {
      "cell_type": "markdown",
      "metadata": {
        "id": "ZCLOcRVp1spw"
      },
      "source": [
        "2) Находим количество сочетаний карт из двух тузов и двух нетузов."
      ]
    },
    {
      "cell_type": "markdown",
      "metadata": {
        "id": "FOuD4Aa-151k"
      },
      "source": [
        "Количество комбинаций из 4 тузов по две карты:"
      ]
    },
    {
      "cell_type": "code",
      "metadata": {
        "colab": {
          "base_uri": "https://localhost:8080/"
        },
        "id": "FTOaqpmK2Bi7",
        "outputId": "6c96d474-e1ec-424a-b5fc-f59423c8c9b0"
      },
      "source": [
        "c1=math.factorial(4)/(math.factorial(2)*math.factorial(4-2))\n",
        "c1"
      ],
      "execution_count": 25,
      "outputs": [
        {
          "output_type": "execute_result",
          "data": {
            "text/plain": [
              "6.0"
            ]
          },
          "metadata": {},
          "execution_count": 25
        }
      ]
    },
    {
      "cell_type": "markdown",
      "metadata": {
        "id": "uiebt98K2TQj"
      },
      "source": [
        "Количество комбинации из 48 нетузов по 2 карты:"
      ]
    },
    {
      "cell_type": "code",
      "metadata": {
        "colab": {
          "base_uri": "https://localhost:8080/"
        },
        "id": "AQ56g29c2ZgT",
        "outputId": "61127aed-a029-4283-94bf-e894f1d292c1"
      },
      "source": [
        "c2=math.factorial(48)/(math.factorial(2)*math.factorial(48-2))\n",
        "c2"
      ],
      "execution_count": 26,
      "outputs": [
        {
          "output_type": "execute_result",
          "data": {
            "text/plain": [
              "1128.0"
            ]
          },
          "metadata": {},
          "execution_count": 26
        }
      ]
    },
    {
      "cell_type": "markdown",
      "metadata": {
        "id": "4sKuTioX2rGp"
      },
      "source": [
        "Значит, всего сочетаний из 2 тузов и двух нетузов:"
      ]
    },
    {
      "cell_type": "code",
      "metadata": {
        "colab": {
          "base_uri": "https://localhost:8080/"
        },
        "id": "EKIKpE7q2y0b",
        "outputId": "b71a0d7f-d4a3-4843-f579-9c280f975c20"
      },
      "source": [
        "c22=c1*c2\n",
        "c22"
      ],
      "execution_count": 27,
      "outputs": [
        {
          "output_type": "execute_result",
          "data": {
            "text/plain": [
              "6768.0"
            ]
          },
          "metadata": {},
          "execution_count": 27
        }
      ]
    },
    {
      "cell_type": "markdown",
      "metadata": {
        "id": "VtLPBzLC26tA"
      },
      "source": [
        "3) Находим количество сочетаний карт из трех тузов и одного нетуза."
      ]
    },
    {
      "cell_type": "markdown",
      "metadata": {
        "id": "snnRsbMm3Lt3"
      },
      "source": [
        "Количество сочтений тузов по 3 карты:"
      ]
    },
    {
      "cell_type": "code",
      "metadata": {
        "colab": {
          "base_uri": "https://localhost:8080/"
        },
        "id": "CpUG_Xu73RJm",
        "outputId": "8e7c3c59-7bab-4e42-ba40-9889553b2dbc"
      },
      "source": [
        "c1= math.factorial(4)/(math.factorial(3)*math.factorial(4-3))\n",
        "c1"
      ],
      "execution_count": 28,
      "outputs": [
        {
          "output_type": "execute_result",
          "data": {
            "text/plain": [
              "4.0"
            ]
          },
          "metadata": {},
          "execution_count": 28
        }
      ]
    },
    {
      "cell_type": "markdown",
      "metadata": {
        "id": "fCPYnkHe3gFD"
      },
      "source": [
        "Количество сочетаний нетузов по одной карте - 48.\n",
        "Тогда всего сочетаний из трех тузов и одного нетуза:"
      ]
    },
    {
      "cell_type": "code",
      "metadata": {
        "colab": {
          "base_uri": "https://localhost:8080/"
        },
        "id": "4xBq0yJf3tJ-",
        "outputId": "da0666ff-437b-45c9-8224-781d05d86f8f"
      },
      "source": [
        "c2=48\n",
        "c31=c1*c2\n",
        "c31"
      ],
      "execution_count": 29,
      "outputs": [
        {
          "output_type": "execute_result",
          "data": {
            "text/plain": [
              "192.0"
            ]
          },
          "metadata": {},
          "execution_count": 29
        }
      ]
    },
    {
      "cell_type": "markdown",
      "metadata": {
        "id": "NdA194qH4HNh"
      },
      "source": [
        "4) Наконец, есть только одно сочетание тузов из 4 карт.\n"
      ]
    },
    {
      "cell_type": "code",
      "metadata": {
        "id": "UH6HSE5E4UuM"
      },
      "source": [
        "c40=1"
      ],
      "execution_count": 30,
      "outputs": []
    },
    {
      "cell_type": "markdown",
      "metadata": {
        "id": "jyKnd0Qj4SKX"
      },
      "source": [
        "Тогда всего сочетаний карт, в которых есть хоть один туз:"
      ]
    },
    {
      "cell_type": "code",
      "metadata": {
        "colab": {
          "base_uri": "https://localhost:8080/"
        },
        "id": "huPncNlI4mF3",
        "outputId": "db677f8c-800d-4cb7-bffa-06da8ae50e86"
      },
      "source": [
        "c=c13+c22+c31+c40\n",
        "c"
      ],
      "execution_count": 31,
      "outputs": [
        {
          "output_type": "execute_result",
          "data": {
            "text/plain": [
              "76145.0"
            ]
          },
          "metadata": {},
          "execution_count": 31
        }
      ]
    },
    {
      "cell_type": "markdown",
      "metadata": {
        "id": "-UCi690M5va2"
      },
      "source": [
        "Из предыдущей задачи мы помним, что всего всех комбинаций карт 270725. В таком случае вероятность, что при случайном выборе четырез карт среди них окажется хотя бы один туз:"
      ]
    },
    {
      "cell_type": "code",
      "metadata": {
        "colab": {
          "base_uri": "https://localhost:8080/"
        },
        "id": "WdjWkDv66EU6",
        "outputId": "8b2ebeb1-670d-4f5a-df8f-4b312425331e"
      },
      "source": [
        "p=c/270725\n",
        "p"
      ],
      "execution_count": 32,
      "outputs": [
        {
          "output_type": "execute_result",
          "data": {
            "text/plain": [
              "0.2812632745405855"
            ]
          },
          "metadata": {},
          "execution_count": 32
        }
      ]
    },
    {
      "cell_type": "markdown",
      "metadata": {
        "id": "KHHExRsS6RYx"
      },
      "source": [
        "Ответ: 28,13%"
      ]
    },
    {
      "cell_type": "markdown",
      "metadata": {
        "id": "4P6_WpWG636Q"
      },
      "source": [
        "Второй вариант решения."
      ]
    },
    {
      "cell_type": "markdown",
      "metadata": {
        "id": "T7HPaxGK672D"
      },
      "source": [
        "Найдем все возможные сочетания из 4 нетузов:"
      ]
    },
    {
      "cell_type": "code",
      "metadata": {
        "colab": {
          "base_uri": "https://localhost:8080/"
        },
        "id": "K6grLDNK7BaD",
        "outputId": "e7d4b4be-0da4-4e6f-91f8-2665c526d1ca"
      },
      "source": [
        "c=math.factorial(48)/(math.factorial(4)*math.factorial(48-4))\n",
        "c"
      ],
      "execution_count": 34,
      "outputs": [
        {
          "output_type": "execute_result",
          "data": {
            "text/plain": [
              "194580.0"
            ]
          },
          "metadata": {},
          "execution_count": 34
        }
      ]
    },
    {
      "cell_type": "markdown",
      "metadata": {
        "id": "oTYVxTl57VuW"
      },
      "source": [
        "Из задачи по буквой а) мы знаем, что всего сочтений карт 270725. Значит, вероятность выпадения четырех карт, среди которых не будет тузов:"
      ]
    },
    {
      "cell_type": "code",
      "metadata": {
        "colab": {
          "base_uri": "https://localhost:8080/"
        },
        "id": "_OPGYqFJ7rkt",
        "outputId": "4d3535e8-7e67-4dc0-a0ee-ac9350e6470e"
      },
      "source": [
        "p1=c/270725\n",
        "p1"
      ],
      "execution_count": 35,
      "outputs": [
        {
          "output_type": "execute_result",
          "data": {
            "text/plain": [
              "0.7187367254594146"
            ]
          },
          "metadata": {},
          "execution_count": 35
        }
      ]
    },
    {
      "cell_type": "markdown",
      "metadata": {
        "id": "2Jo9vwEh7-62"
      },
      "source": [
        "Поскольку есть только два варианта: либо в сочетании карт будет хотя бы один туз, либо не будет вовсе, сумма этих двух вероятностей будет равна 1. Следовательно, вероятность того, что среди выбранных карт будет хотя бы один туз:"
      ]
    },
    {
      "cell_type": "code",
      "metadata": {
        "colab": {
          "base_uri": "https://localhost:8080/"
        },
        "id": "JlfZLpB48bqR",
        "outputId": "a77763ec-22ea-423f-b320-b58011b3a105"
      },
      "source": [
        "p=1\n",
        "p2=p-p1\n",
        "p2"
      ],
      "execution_count": 36,
      "outputs": [
        {
          "output_type": "execute_result",
          "data": {
            "text/plain": [
              "0.2812632745405854"
            ]
          },
          "metadata": {},
          "execution_count": 36
        }
      ]
    },
    {
      "cell_type": "markdown",
      "metadata": {
        "id": "qwXDN16o8lRg"
      },
      "source": [
        "Ответ: 28,13%"
      ]
    },
    {
      "cell_type": "markdown",
      "metadata": {
        "id": "ba0fLdWI9Ho3"
      },
      "source": [
        "Задача №2."
      ]
    },
    {
      "cell_type": "markdown",
      "metadata": {
        "id": "nPpwU4DI9M5f"
      },
      "source": [
        "Сначала найдем все возможные варианты сочетаний трех кнопок из 10:"
      ]
    },
    {
      "cell_type": "code",
      "metadata": {
        "colab": {
          "base_uri": "https://localhost:8080/"
        },
        "id": "9z3yAl7z9WRT",
        "outputId": "1a54b7be-d660-406f-a04d-559f1bcd389e"
      },
      "source": [
        "c1=math.factorial(10)/(math.factorial(3)*math.factorial(10-3))\n",
        "c1"
      ],
      "execution_count": 38,
      "outputs": [
        {
          "output_type": "execute_result",
          "data": {
            "text/plain": [
              "120.0"
            ]
          },
          "metadata": {},
          "execution_count": 38
        }
      ]
    },
    {
      "cell_type": "markdown",
      "metadata": {
        "id": "yKTBGkPR9y0N"
      },
      "source": [
        "Поскольку необходимое сочетание только одно, вероятность угадывания с первого раза:"
      ]
    },
    {
      "cell_type": "code",
      "metadata": {
        "colab": {
          "base_uri": "https://localhost:8080/"
        },
        "id": "iIzevDgi-Ars",
        "outputId": "9547ca79-5947-4bae-fcf8-8229eba21baf"
      },
      "source": [
        "c2=1\n",
        "p=c2/c1\n",
        "p"
      ],
      "execution_count": 39,
      "outputs": [
        {
          "output_type": "execute_result",
          "data": {
            "text/plain": [
              "0.008333333333333333"
            ]
          },
          "metadata": {},
          "execution_count": 39
        }
      ]
    },
    {
      "cell_type": "markdown",
      "metadata": {
        "id": "XaABC2t5-OgG"
      },
      "source": [
        "Ответ: 0,83%"
      ]
    },
    {
      "cell_type": "markdown",
      "metadata": {
        "id": "uv894Wz0-aIo"
      },
      "source": [
        "Задача №3."
      ]
    },
    {
      "cell_type": "markdown",
      "metadata": {
        "id": "nMzbK_fi_pHW"
      },
      "source": [
        "Посчитаем количество сочетаний из 9 окрашенных деталий по три детали:"
      ]
    },
    {
      "cell_type": "code",
      "metadata": {
        "colab": {
          "base_uri": "https://localhost:8080/"
        },
        "id": "keLf1i6O_37E",
        "outputId": "bd7ec8f0-26fc-4118-9811-3770ca63928c"
      },
      "source": [
        "c1=math.factorial(9)/(math.factorial(3)*math.factorial(9-3))\n",
        "c1"
      ],
      "execution_count": 40,
      "outputs": [
        {
          "output_type": "execute_result",
          "data": {
            "text/plain": [
              "84.0"
            ]
          },
          "metadata": {},
          "execution_count": 40
        }
      ]
    },
    {
      "cell_type": "markdown",
      "metadata": {
        "id": "EQWY7oDpASkC"
      },
      "source": [
        "Теперь посчитаем количество сочетаний всех деталей по три штуки:"
      ]
    },
    {
      "cell_type": "code",
      "metadata": {
        "colab": {
          "base_uri": "https://localhost:8080/"
        },
        "id": "fD3mlM_eAaF1",
        "outputId": "d1c39256-c435-4747-b583-87bf83ac6b73"
      },
      "source": [
        "c2=math.factorial(15)/(math.factorial(3)*math.factorial(15-3))\n",
        "c2"
      ],
      "execution_count": 41,
      "outputs": [
        {
          "output_type": "execute_result",
          "data": {
            "text/plain": [
              "455.0"
            ]
          },
          "metadata": {},
          "execution_count": 41
        }
      ]
    },
    {
      "cell_type": "markdown",
      "metadata": {
        "id": "PlqQMdcOAor9"
      },
      "source": [
        "Таким образом, вероятность, что все вытащенные детали будут окрашенными:"
      ]
    },
    {
      "cell_type": "code",
      "metadata": {
        "colab": {
          "base_uri": "https://localhost:8080/"
        },
        "id": "8kL1RPUEAxNS",
        "outputId": "21d3609e-241e-4e4d-ba64-92b7ab85c176"
      },
      "source": [
        "p=c1/c2\n",
        "p"
      ],
      "execution_count": 42,
      "outputs": [
        {
          "output_type": "execute_result",
          "data": {
            "text/plain": [
              "0.18461538461538463"
            ]
          },
          "metadata": {},
          "execution_count": 42
        }
      ]
    },
    {
      "cell_type": "markdown",
      "metadata": {
        "id": "vgn-YoLjA3oq"
      },
      "source": [
        "Ответ: 18,46%"
      ]
    },
    {
      "cell_type": "markdown",
      "metadata": {
        "id": "6_b1bcXhBGYa"
      },
      "source": [
        "Задача №4."
      ]
    },
    {
      "cell_type": "markdown",
      "metadata": {
        "id": "9u0ZDFyLBK2w"
      },
      "source": [
        "Существует только одно сочетание из двух билетовб которое нам подходит. Найдем количество всех возможных сочетаний лотерейных билетов:"
      ]
    },
    {
      "cell_type": "code",
      "metadata": {
        "colab": {
          "base_uri": "https://localhost:8080/"
        },
        "id": "cwUIgurZBb8K",
        "outputId": "e7ea7032-cf65-4a93-e11b-17cd7f4f9720"
      },
      "source": [
        "c1=1\n",
        "c2=math.factorial(100)/(math.factorial(2)*math.factorial(100-2))\n",
        "c2"
      ],
      "execution_count": 43,
      "outputs": [
        {
          "output_type": "execute_result",
          "data": {
            "text/plain": [
              "4950.0"
            ]
          },
          "metadata": {},
          "execution_count": 43
        }
      ]
    },
    {
      "cell_type": "markdown",
      "metadata": {
        "id": "aHAHUNqhBpTq"
      },
      "source": [
        "Тогда вероятность, что оба купленных билета будут выигрышными:"
      ]
    },
    {
      "cell_type": "code",
      "metadata": {
        "colab": {
          "base_uri": "https://localhost:8080/"
        },
        "id": "TuehnkAhBuFo",
        "outputId": "5bd256c5-9aa3-43d0-f2de-b5abc3fc0539"
      },
      "source": [
        "p=c1/c2\n",
        "p"
      ],
      "execution_count": 44,
      "outputs": [
        {
          "output_type": "execute_result",
          "data": {
            "text/plain": [
              "0.00020202020202020202"
            ]
          },
          "metadata": {},
          "execution_count": 44
        }
      ]
    },
    {
      "cell_type": "markdown",
      "metadata": {
        "id": "11eykvvQBx-D"
      },
      "source": [
        "Ответ: 0,02%"
      ]
    }
  ]
}